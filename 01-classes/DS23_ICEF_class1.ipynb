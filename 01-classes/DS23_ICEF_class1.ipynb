{
  "nbformat": 4,
  "nbformat_minor": 0,
  "metadata": {
    "colab": {
      "provenance": [],
      "authorship_tag": "ABX9TyPzAkbrChw+htRJDmJ9b4ud",
      "include_colab_link": true
    },
    "kernelspec": {
      "name": "python3",
      "display_name": "Python 3"
    },
    "language_info": {
      "name": "python"
    }
  },
  "cells": [
    {
      "cell_type": "markdown",
      "metadata": {
        "id": "view-in-github",
        "colab_type": "text"
      },
      "source": [
        "<a href=\"https://colab.research.google.com/github/Shuaynat/DSE-23-24/blob/main/01-classes/DS23_ICEF_class1.ipynb\" target=\"_parent\"><img src=\"https://colab.research.google.com/assets/colab-badge.svg\" alt=\"Open In Colab\"/></a>"
      ]
    },
    {
      "cell_type": "markdown",
      "source": [
        "# Data Science for Economics"
      ],
      "metadata": {
        "id": "PMZ8TeNTHjgv"
      }
    },
    {
      "cell_type": "markdown",
      "source": [
        "How to download data from github page to colab using magic command from linux paradigm.\n"
      ],
      "metadata": {
        "id": "N1kNweWKaCCQ"
      }
    },
    {
      "cell_type": "code",
      "source": [
        "!wget -c https://raw.githubusercontent.com/Shuaynat/DSE-23-24/main/01-classes/flats_moscow.csv"
      ],
      "metadata": {
        "colab": {
          "base_uri": "https://localhost:8080/"
        },
        "id": "BgwVAGESx2pM",
        "outputId": "3f1994e8-b258-45e3-c4f8-355565e51ce3"
      },
      "execution_count": null,
      "outputs": [
        {
          "output_type": "stream",
          "name": "stdout",
          "text": [
            "--2023-09-05 10:10:45--  https://github.com/Shuaynat/DSE-23-24/blob/main/01%20Classes/flats_moscow.csv\n",
            "Resolving github.com (github.com)... 140.82.112.4\n",
            "Connecting to github.com (github.com)|140.82.112.4|:443... connected.\n",
            "HTTP request sent, awaiting response... 404 Not Found\n",
            "2023-09-05 10:10:46 ERROR 404: Not Found.\n",
            "\n"
          ]
        }
      ]
    },
    {
      "cell_type": "markdown",
      "source": [
        "This class will be devoted to introduction to **python** and mainly to most used python library for data analaysis ***pandas***."
      ],
      "metadata": {
        "id": "LTTJohoUIBqn"
      }
    },
    {
      "cell_type": "markdown",
      "source": [
        "In machine learning, as a rule, everything comes down to the analysis of  tabular data. We can start with a large number of complex tables, images, texts, or something else complicated, but in the end it all usually comes down to one table, where each object is described by a set of features. Therefore, it is important to be able to work with tables.\n",
        "\n",
        "And there are also some studies showing that in solving the problem of data mining, usually 20% of the time is spent on building models and other interesting work related to what is being told in our lectures, and 80% of the time is spent by specialists on data preparation and processing. This includes the transformation of data,  elimination of outliers and omissions, etc. And this is also, in fact, manipulations with tables.\n",
        "\n",
        "Conclusion: it is important to be able to work with tabular data. Python has a pandas library for this, which we will study today."
      ],
      "metadata": {
        "id": "caRgpNH3InVc"
      }
    },
    {
      "cell_type": "markdown",
      "source": [
        "# 0. Intro to python language"
      ],
      "metadata": {
        "id": "L44dICGfRWSz"
      }
    },
    {
      "cell_type": "markdown",
      "source": [],
      "metadata": {
        "id": "SSp_TtPLRcer"
      }
    },
    {
      "cell_type": "code",
      "source": [
        "print('Hi, Google Colab!')"
      ],
      "metadata": {
        "colab": {
          "base_uri": "https://localhost:8080/"
        },
        "id": "qvKfaV5yRlu7",
        "outputId": "8db8c41b-b9db-4a8c-ae5a-2d2b53266cfc"
      },
      "execution_count": null,
      "outputs": [
        {
          "output_type": "stream",
          "name": "stdout",
          "text": [
            "Hi, Google Colab!\n"
          ]
        }
      ]
    },
    {
      "cell_type": "markdown",
      "source": [
        "На этом моменте изучим как пользоваться Колабом и включим режим Корги!"
      ],
      "metadata": {
        "id": "GVPJzwa_cSV-"
      }
    },
    {
      "cell_type": "code",
      "source": [
        "a = 1"
      ],
      "metadata": {
        "id": "RaiMLDk3RuhN"
      },
      "execution_count": null,
      "outputs": []
    },
    {
      "cell_type": "markdown",
      "source": [
        "### Number Data types:\n",
        "\n",
        "\n",
        "1.   'int' integer\n",
        "2.  'float' number with floating point\n",
        "\n",
        "\n"
      ],
      "metadata": {
        "id": "GECc4d6YSFIm"
      }
    },
    {
      "cell_type": "code",
      "source": [
        "print(a)\n",
        "print(type(a))\n",
        "a = 2.1\n",
        "print(a)\n",
        "print(type(a))"
      ],
      "metadata": {
        "colab": {
          "base_uri": "https://localhost:8080/"
        },
        "id": "PDhEHlvCRwJc",
        "outputId": "0fce8fa5-75fb-41b7-db72-90eb291e6f30"
      },
      "execution_count": null,
      "outputs": [
        {
          "output_type": "stream",
          "name": "stdout",
          "text": [
            "2\n",
            "<class 'int'>\n",
            "2.1\n",
            "<class 'float'>\n"
          ]
        }
      ]
    },
    {
      "cell_type": "markdown",
      "source": [],
      "metadata": {
        "id": "sxFJD2K1Sh7S"
      }
    },
    {
      "cell_type": "markdown",
      "source": [
        "# 1. Loading data\n",
        "\n",
        "As always in Data Science you are starting with making nice cup of tea (or coffee). Your next move is to load the data:\n",
        "\n",
        "- Start with loading `house_data.csv` file using `pd.read_csv()` function.\n",
        "- You may also want to increase maximal displayed pandas columns: set `pd.options.display.max_columns` to 30\n",
        "- Print top 10 observations in the table. `.head()`\n",
        "- Print last 10 observations in the table. `.tail()`\n",
        "- Print all the data columns names using method `.columns`\n",
        "- Print data size (number of rows and columns). This is the `.shape` of the data.\n",
        "\n",
        "*Almost* every python has a `head` and a `tail` just as DataFrames do."
      ],
      "metadata": {
        "id": "KTmizT3aJXOn"
      }
    },
    {
      "cell_type": "markdown",
      "source": [
        "Import library (pandas is not included in standard python, so we need to import it as a library)"
      ],
      "metadata": {
        "id": "Gi34lYBOJgGW"
      }
    },
    {
      "cell_type": "code",
      "execution_count": null,
      "metadata": {
        "id": "ZgBnUAaYHblZ"
      },
      "outputs": [],
      "source": [
        "import pandas as pd"
      ]
    },
    {
      "cell_type": "markdown",
      "source": [
        "Let us understand how to work with **pandas DataFrames** type of data to store tables:\n"
      ],
      "metadata": {
        "id": "P2rvcbvNSmTc"
      }
    },
    {
      "cell_type": "markdown",
      "source": [
        "Create dataset manually"
      ],
      "metadata": {
        "id": "lwA5I8YqvwyX"
      }
    },
    {
      "cell_type": "code",
      "source": [
        "df = pd.DataFrame({'AAA' : [4,5,6,7],\n",
        "                   'BBB' : [10,20,30,40],\n",
        "                   'CCC' : [100,50,'E',-50]})\n",
        "df"
      ],
      "metadata": {
        "colab": {
          "base_uri": "https://localhost:8080/",
          "height": 175
        },
        "id": "qnXrPWeWSj3K",
        "outputId": "315da00a-b5ad-4b7c-9397-83b33141f601"
      },
      "execution_count": null,
      "outputs": [
        {
          "output_type": "execute_result",
          "data": {
            "text/plain": [
              "   AAA  BBB  CCC\n",
              "0    4   10  100\n",
              "1    5   20   50\n",
              "2    6   30    E\n",
              "3    7   40  -50"
            ],
            "text/html": [
              "\n",
              "  <div id=\"df-1b001cd1-afc6-41c6-8a40-15baeae3abad\" class=\"colab-df-container\">\n",
              "    <div>\n",
              "<style scoped>\n",
              "    .dataframe tbody tr th:only-of-type {\n",
              "        vertical-align: middle;\n",
              "    }\n",
              "\n",
              "    .dataframe tbody tr th {\n",
              "        vertical-align: top;\n",
              "    }\n",
              "\n",
              "    .dataframe thead th {\n",
              "        text-align: right;\n",
              "    }\n",
              "</style>\n",
              "<table border=\"1\" class=\"dataframe\">\n",
              "  <thead>\n",
              "    <tr style=\"text-align: right;\">\n",
              "      <th></th>\n",
              "      <th>AAA</th>\n",
              "      <th>BBB</th>\n",
              "      <th>CCC</th>\n",
              "    </tr>\n",
              "  </thead>\n",
              "  <tbody>\n",
              "    <tr>\n",
              "      <th>0</th>\n",
              "      <td>4</td>\n",
              "      <td>10</td>\n",
              "      <td>100</td>\n",
              "    </tr>\n",
              "    <tr>\n",
              "      <th>1</th>\n",
              "      <td>5</td>\n",
              "      <td>20</td>\n",
              "      <td>50</td>\n",
              "    </tr>\n",
              "    <tr>\n",
              "      <th>2</th>\n",
              "      <td>6</td>\n",
              "      <td>30</td>\n",
              "      <td>E</td>\n",
              "    </tr>\n",
              "    <tr>\n",
              "      <th>3</th>\n",
              "      <td>7</td>\n",
              "      <td>40</td>\n",
              "      <td>-50</td>\n",
              "    </tr>\n",
              "  </tbody>\n",
              "</table>\n",
              "</div>\n",
              "    <div class=\"colab-df-buttons\">\n",
              "\n",
              "  <div class=\"colab-df-container\">\n",
              "    <button class=\"colab-df-convert\" onclick=\"convertToInteractive('df-1b001cd1-afc6-41c6-8a40-15baeae3abad')\"\n",
              "            title=\"Convert this dataframe to an interactive table.\"\n",
              "            style=\"display:none;\">\n",
              "\n",
              "  <svg xmlns=\"http://www.w3.org/2000/svg\" height=\"24px\" viewBox=\"0 -960 960 960\">\n",
              "    <path d=\"M120-120v-720h720v720H120Zm60-500h600v-160H180v160Zm220 220h160v-160H400v160Zm0 220h160v-160H400v160ZM180-400h160v-160H180v160Zm440 0h160v-160H620v160ZM180-180h160v-160H180v160Zm440 0h160v-160H620v160Z\"/>\n",
              "  </svg>\n",
              "    </button>\n",
              "\n",
              "  <style>\n",
              "    .colab-df-container {\n",
              "      display:flex;\n",
              "      gap: 12px;\n",
              "    }\n",
              "\n",
              "    .colab-df-convert {\n",
              "      background-color: #E8F0FE;\n",
              "      border: none;\n",
              "      border-radius: 50%;\n",
              "      cursor: pointer;\n",
              "      display: none;\n",
              "      fill: #1967D2;\n",
              "      height: 32px;\n",
              "      padding: 0 0 0 0;\n",
              "      width: 32px;\n",
              "    }\n",
              "\n",
              "    .colab-df-convert:hover {\n",
              "      background-color: #E2EBFA;\n",
              "      box-shadow: 0px 1px 2px rgba(60, 64, 67, 0.3), 0px 1px 3px 1px rgba(60, 64, 67, 0.15);\n",
              "      fill: #174EA6;\n",
              "    }\n",
              "\n",
              "    .colab-df-buttons div {\n",
              "      margin-bottom: 4px;\n",
              "    }\n",
              "\n",
              "    [theme=dark] .colab-df-convert {\n",
              "      background-color: #3B4455;\n",
              "      fill: #D2E3FC;\n",
              "    }\n",
              "\n",
              "    [theme=dark] .colab-df-convert:hover {\n",
              "      background-color: #434B5C;\n",
              "      box-shadow: 0px 1px 3px 1px rgba(0, 0, 0, 0.15);\n",
              "      filter: drop-shadow(0px 1px 2px rgba(0, 0, 0, 0.3));\n",
              "      fill: #FFFFFF;\n",
              "    }\n",
              "  </style>\n",
              "\n",
              "    <script>\n",
              "      const buttonEl =\n",
              "        document.querySelector('#df-1b001cd1-afc6-41c6-8a40-15baeae3abad button.colab-df-convert');\n",
              "      buttonEl.style.display =\n",
              "        google.colab.kernel.accessAllowed ? 'block' : 'none';\n",
              "\n",
              "      async function convertToInteractive(key) {\n",
              "        const element = document.querySelector('#df-1b001cd1-afc6-41c6-8a40-15baeae3abad');\n",
              "        const dataTable =\n",
              "          await google.colab.kernel.invokeFunction('convertToInteractive',\n",
              "                                                    [key], {});\n",
              "        if (!dataTable) return;\n",
              "\n",
              "        const docLinkHtml = 'Like what you see? Visit the ' +\n",
              "          '<a target=\"_blank\" href=https://colab.research.google.com/notebooks/data_table.ipynb>data table notebook</a>'\n",
              "          + ' to learn more about interactive tables.';\n",
              "        element.innerHTML = '';\n",
              "        dataTable['output_type'] = 'display_data';\n",
              "        await google.colab.output.renderOutput(dataTable, element);\n",
              "        const docLink = document.createElement('div');\n",
              "        docLink.innerHTML = docLinkHtml;\n",
              "        element.appendChild(docLink);\n",
              "      }\n",
              "    </script>\n",
              "  </div>\n",
              "\n",
              "\n",
              "<div id=\"df-d100afa7-a91f-4663-94c3-4e6e029f19ef\">\n",
              "  <button class=\"colab-df-quickchart\" onclick=\"quickchart('df-d100afa7-a91f-4663-94c3-4e6e029f19ef')\"\n",
              "            title=\"Suggest charts.\"\n",
              "            style=\"display:none;\">\n",
              "\n",
              "<svg xmlns=\"http://www.w3.org/2000/svg\" height=\"24px\"viewBox=\"0 0 24 24\"\n",
              "     width=\"24px\">\n",
              "    <g>\n",
              "        <path d=\"M19 3H5c-1.1 0-2 .9-2 2v14c0 1.1.9 2 2 2h14c1.1 0 2-.9 2-2V5c0-1.1-.9-2-2-2zM9 17H7v-7h2v7zm4 0h-2V7h2v10zm4 0h-2v-4h2v4z\"/>\n",
              "    </g>\n",
              "</svg>\n",
              "  </button>\n",
              "\n",
              "<style>\n",
              "  .colab-df-quickchart {\n",
              "      --bg-color: #E8F0FE;\n",
              "      --fill-color: #1967D2;\n",
              "      --hover-bg-color: #E2EBFA;\n",
              "      --hover-fill-color: #174EA6;\n",
              "      --disabled-fill-color: #AAA;\n",
              "      --disabled-bg-color: #DDD;\n",
              "  }\n",
              "\n",
              "  [theme=dark] .colab-df-quickchart {\n",
              "      --bg-color: #3B4455;\n",
              "      --fill-color: #D2E3FC;\n",
              "      --hover-bg-color: #434B5C;\n",
              "      --hover-fill-color: #FFFFFF;\n",
              "      --disabled-bg-color: #3B4455;\n",
              "      --disabled-fill-color: #666;\n",
              "  }\n",
              "\n",
              "  .colab-df-quickchart {\n",
              "    background-color: var(--bg-color);\n",
              "    border: none;\n",
              "    border-radius: 50%;\n",
              "    cursor: pointer;\n",
              "    display: none;\n",
              "    fill: var(--fill-color);\n",
              "    height: 32px;\n",
              "    padding: 0;\n",
              "    width: 32px;\n",
              "  }\n",
              "\n",
              "  .colab-df-quickchart:hover {\n",
              "    background-color: var(--hover-bg-color);\n",
              "    box-shadow: 0 1px 2px rgba(60, 64, 67, 0.3), 0 1px 3px 1px rgba(60, 64, 67, 0.15);\n",
              "    fill: var(--button-hover-fill-color);\n",
              "  }\n",
              "\n",
              "  .colab-df-quickchart-complete:disabled,\n",
              "  .colab-df-quickchart-complete:disabled:hover {\n",
              "    background-color: var(--disabled-bg-color);\n",
              "    fill: var(--disabled-fill-color);\n",
              "    box-shadow: none;\n",
              "  }\n",
              "\n",
              "  .colab-df-spinner {\n",
              "    border: 2px solid var(--fill-color);\n",
              "    border-color: transparent;\n",
              "    border-bottom-color: var(--fill-color);\n",
              "    animation:\n",
              "      spin 1s steps(1) infinite;\n",
              "  }\n",
              "\n",
              "  @keyframes spin {\n",
              "    0% {\n",
              "      border-color: transparent;\n",
              "      border-bottom-color: var(--fill-color);\n",
              "      border-left-color: var(--fill-color);\n",
              "    }\n",
              "    20% {\n",
              "      border-color: transparent;\n",
              "      border-left-color: var(--fill-color);\n",
              "      border-top-color: var(--fill-color);\n",
              "    }\n",
              "    30% {\n",
              "      border-color: transparent;\n",
              "      border-left-color: var(--fill-color);\n",
              "      border-top-color: var(--fill-color);\n",
              "      border-right-color: var(--fill-color);\n",
              "    }\n",
              "    40% {\n",
              "      border-color: transparent;\n",
              "      border-right-color: var(--fill-color);\n",
              "      border-top-color: var(--fill-color);\n",
              "    }\n",
              "    60% {\n",
              "      border-color: transparent;\n",
              "      border-right-color: var(--fill-color);\n",
              "    }\n",
              "    80% {\n",
              "      border-color: transparent;\n",
              "      border-right-color: var(--fill-color);\n",
              "      border-bottom-color: var(--fill-color);\n",
              "    }\n",
              "    90% {\n",
              "      border-color: transparent;\n",
              "      border-bottom-color: var(--fill-color);\n",
              "    }\n",
              "  }\n",
              "</style>\n",
              "\n",
              "  <script>\n",
              "    async function quickchart(key) {\n",
              "      const quickchartButtonEl =\n",
              "        document.querySelector('#' + key + ' button');\n",
              "      quickchartButtonEl.disabled = true;  // To prevent multiple clicks.\n",
              "      quickchartButtonEl.classList.add('colab-df-spinner');\n",
              "      try {\n",
              "        const charts = await google.colab.kernel.invokeFunction(\n",
              "            'suggestCharts', [key], {});\n",
              "      } catch (error) {\n",
              "        console.error('Error during call to suggestCharts:', error);\n",
              "      }\n",
              "      quickchartButtonEl.classList.remove('colab-df-spinner');\n",
              "      quickchartButtonEl.classList.add('colab-df-quickchart-complete');\n",
              "    }\n",
              "    (() => {\n",
              "      let quickchartButtonEl =\n",
              "        document.querySelector('#df-d100afa7-a91f-4663-94c3-4e6e029f19ef button');\n",
              "      quickchartButtonEl.style.display =\n",
              "        google.colab.kernel.accessAllowed ? 'block' : 'none';\n",
              "    })();\n",
              "  </script>\n",
              "</div>\n",
              "    </div>\n",
              "  </div>\n"
            ]
          },
          "metadata": {},
          "execution_count": 49
        }
      ]
    },
    {
      "cell_type": "code",
      "source": [],
      "metadata": {
        "id": "sOk_fJP5v2Tc"
      },
      "execution_count": null,
      "outputs": []
    },
    {
      "cell_type": "markdown",
      "source": [
        "### **Load dataset**\n",
        "Let us load dataset 'flats_prices.csv' in csv format\n",
        "and write it to variable flats"
      ],
      "metadata": {
        "id": "210Qz_N2N61q"
      }
    },
    {
      "cell_type": "markdown",
      "source": [
        "Price ($1000): English: This column represents the price of the apartment in thousands of dollars.\n",
        "\n",
        "Totsp (Total Area): English: Total area of the apartment in square meters.\n",
        "\n",
        "Livesp (Living Area): English: Living area of the apartment in square meters.\n",
        "\n",
        "Kitsp (Kitchen Area): English: Kitchen area of the apartment in square meters.\n",
        "\n",
        "Dist (Distance to Center): English: Distance from the apartment to the city center in kilometers.\n",
        "\n",
        "Metrdist (Distance to Metro): English: Distance from the apartment to the nearest metro station in minutes.\n",
        "\n",
        "Walk (Proximity to Metro): English: Indicates if the apartment is within walking distance (1) from the metro station or not (0).\n",
        "\n",
        "Brick (Building Material): English: Indicates if the building is made of brick or reinforced concrete (1), or if it's made of another material (0).\n",
        "\n",
        "Floor (Floor Level): English: Indicates if the apartment is located on a floor other than the first and last floors (1), or if it's on the first or last floor (0)."
      ],
      "metadata": {
        "id": "t3yocDeENN36"
      }
    },
    {
      "cell_type": "code",
      "source": [
        "flats  = pd.read_csv('flats_moscow.csv',)"
      ],
      "metadata": {
        "id": "4zhX20CsJcRC"
      },
      "execution_count": null,
      "outputs": []
    },
    {
      "cell_type": "markdown",
      "source": [
        "Let us look what is inside variable flats"
      ],
      "metadata": {
        "id": "GygoHc5uORLr"
      }
    },
    {
      "cell_type": "code",
      "source": [
        "type(flats)"
      ],
      "metadata": {
        "colab": {
          "base_uri": "https://localhost:8080/"
        },
        "id": "vfXQh4aWRNoP",
        "outputId": "8f31431f-efdc-4daa-82d5-05cc3f2eca79"
      },
      "execution_count": null,
      "outputs": [
        {
          "output_type": "execute_result",
          "data": {
            "text/plain": [
              "pandas.core.frame.DataFrame"
            ]
          },
          "metadata": {},
          "execution_count": 51
        }
      ]
    },
    {
      "cell_type": "markdown",
      "source": [
        "Shape of a dataset:\n",
        "\n",
        "(number of observations, number of columns)"
      ],
      "metadata": {
        "id": "Fk6VGExTfLlv"
      }
    },
    {
      "cell_type": "code",
      "source": [
        "flats.shape"
      ],
      "metadata": {
        "colab": {
          "base_uri": "https://localhost:8080/"
        },
        "id": "2yf_sKJbe6SC",
        "outputId": "831b3e95-b3ae-4cd8-a927-5c1750d43bcf"
      },
      "execution_count": null,
      "outputs": [
        {
          "output_type": "stream",
          "name": "stdout",
          "text": [
            "(2040, 11)\n"
          ]
        }
      ]
    },
    {
      "cell_type": "markdown",
      "source": [
        "Number of observaions"
      ],
      "metadata": {
        "id": "WEsoUYcEfFOs"
      }
    },
    {
      "cell_type": "code",
      "source": [
        "flats.index"
      ],
      "metadata": {
        "colab": {
          "base_uri": "https://localhost:8080/"
        },
        "id": "MzuKMlcYe-_b",
        "outputId": "1fd47192-3863-44fb-b168-90e54e3b2bdb"
      },
      "execution_count": null,
      "outputs": [
        {
          "output_type": "stream",
          "name": "stdout",
          "text": [
            "RangeIndex(start=0, stop=2040, step=1)\n"
          ]
        }
      ]
    },
    {
      "cell_type": "markdown",
      "source": [
        "Let us look at top 10 observations in the table flats"
      ],
      "metadata": {
        "id": "dc4R5mJWOHpe"
      }
    },
    {
      "cell_type": "code",
      "source": [
        "flats.head()"
      ],
      "metadata": {
        "colab": {
          "base_uri": "https://localhost:8080/",
          "height": 206
        },
        "id": "VWQuNr6TN42Y",
        "outputId": "4dd9c604-f813-45fd-a831-d17b2333657a"
      },
      "execution_count": null,
      "outputs": [
        {
          "output_type": "execute_result",
          "data": {
            "text/plain": [
              "   Unnamed: 0  price  totsp  livesp  kitsp  dist  metrdist  walk  brick  \\\n",
              "0           1     81     58      40    6.0  12.5         7     1      1   \n",
              "1           2     75     44      28    6.0  13.5         7     1      0   \n",
              "2           3    128     70      42    6.0  14.5         3     1      1   \n",
              "3           4     95     61      37    6.0  13.5         7     1      0   \n",
              "4           5    330    104      60   11.0  10.5         7     0      1   \n",
              "\n",
              "   floor  code  \n",
              "0      1     3  \n",
              "1      1     6  \n",
              "2      1     3  \n",
              "3      1     1  \n",
              "4      1     3  "
            ],
            "text/html": [
              "\n",
              "  <div id=\"df-6393847b-ddfe-4747-87b6-048c172bc24e\" class=\"colab-df-container\">\n",
              "    <div>\n",
              "<style scoped>\n",
              "    .dataframe tbody tr th:only-of-type {\n",
              "        vertical-align: middle;\n",
              "    }\n",
              "\n",
              "    .dataframe tbody tr th {\n",
              "        vertical-align: top;\n",
              "    }\n",
              "\n",
              "    .dataframe thead th {\n",
              "        text-align: right;\n",
              "    }\n",
              "</style>\n",
              "<table border=\"1\" class=\"dataframe\">\n",
              "  <thead>\n",
              "    <tr style=\"text-align: right;\">\n",
              "      <th></th>\n",
              "      <th>Unnamed: 0</th>\n",
              "      <th>price</th>\n",
              "      <th>totsp</th>\n",
              "      <th>livesp</th>\n",
              "      <th>kitsp</th>\n",
              "      <th>dist</th>\n",
              "      <th>metrdist</th>\n",
              "      <th>walk</th>\n",
              "      <th>brick</th>\n",
              "      <th>floor</th>\n",
              "      <th>code</th>\n",
              "    </tr>\n",
              "  </thead>\n",
              "  <tbody>\n",
              "    <tr>\n",
              "      <th>0</th>\n",
              "      <td>1</td>\n",
              "      <td>81</td>\n",
              "      <td>58</td>\n",
              "      <td>40</td>\n",
              "      <td>6.0</td>\n",
              "      <td>12.5</td>\n",
              "      <td>7</td>\n",
              "      <td>1</td>\n",
              "      <td>1</td>\n",
              "      <td>1</td>\n",
              "      <td>3</td>\n",
              "    </tr>\n",
              "    <tr>\n",
              "      <th>1</th>\n",
              "      <td>2</td>\n",
              "      <td>75</td>\n",
              "      <td>44</td>\n",
              "      <td>28</td>\n",
              "      <td>6.0</td>\n",
              "      <td>13.5</td>\n",
              "      <td>7</td>\n",
              "      <td>1</td>\n",
              "      <td>0</td>\n",
              "      <td>1</td>\n",
              "      <td>6</td>\n",
              "    </tr>\n",
              "    <tr>\n",
              "      <th>2</th>\n",
              "      <td>3</td>\n",
              "      <td>128</td>\n",
              "      <td>70</td>\n",
              "      <td>42</td>\n",
              "      <td>6.0</td>\n",
              "      <td>14.5</td>\n",
              "      <td>3</td>\n",
              "      <td>1</td>\n",
              "      <td>1</td>\n",
              "      <td>1</td>\n",
              "      <td>3</td>\n",
              "    </tr>\n",
              "    <tr>\n",
              "      <th>3</th>\n",
              "      <td>4</td>\n",
              "      <td>95</td>\n",
              "      <td>61</td>\n",
              "      <td>37</td>\n",
              "      <td>6.0</td>\n",
              "      <td>13.5</td>\n",
              "      <td>7</td>\n",
              "      <td>1</td>\n",
              "      <td>0</td>\n",
              "      <td>1</td>\n",
              "      <td>1</td>\n",
              "    </tr>\n",
              "    <tr>\n",
              "      <th>4</th>\n",
              "      <td>5</td>\n",
              "      <td>330</td>\n",
              "      <td>104</td>\n",
              "      <td>60</td>\n",
              "      <td>11.0</td>\n",
              "      <td>10.5</td>\n",
              "      <td>7</td>\n",
              "      <td>0</td>\n",
              "      <td>1</td>\n",
              "      <td>1</td>\n",
              "      <td>3</td>\n",
              "    </tr>\n",
              "  </tbody>\n",
              "</table>\n",
              "</div>\n",
              "    <div class=\"colab-df-buttons\">\n",
              "\n",
              "  <div class=\"colab-df-container\">\n",
              "    <button class=\"colab-df-convert\" onclick=\"convertToInteractive('df-6393847b-ddfe-4747-87b6-048c172bc24e')\"\n",
              "            title=\"Convert this dataframe to an interactive table.\"\n",
              "            style=\"display:none;\">\n",
              "\n",
              "  <svg xmlns=\"http://www.w3.org/2000/svg\" height=\"24px\" viewBox=\"0 -960 960 960\">\n",
              "    <path d=\"M120-120v-720h720v720H120Zm60-500h600v-160H180v160Zm220 220h160v-160H400v160Zm0 220h160v-160H400v160ZM180-400h160v-160H180v160Zm440 0h160v-160H620v160ZM180-180h160v-160H180v160Zm440 0h160v-160H620v160Z\"/>\n",
              "  </svg>\n",
              "    </button>\n",
              "\n",
              "  <style>\n",
              "    .colab-df-container {\n",
              "      display:flex;\n",
              "      gap: 12px;\n",
              "    }\n",
              "\n",
              "    .colab-df-convert {\n",
              "      background-color: #E8F0FE;\n",
              "      border: none;\n",
              "      border-radius: 50%;\n",
              "      cursor: pointer;\n",
              "      display: none;\n",
              "      fill: #1967D2;\n",
              "      height: 32px;\n",
              "      padding: 0 0 0 0;\n",
              "      width: 32px;\n",
              "    }\n",
              "\n",
              "    .colab-df-convert:hover {\n",
              "      background-color: #E2EBFA;\n",
              "      box-shadow: 0px 1px 2px rgba(60, 64, 67, 0.3), 0px 1px 3px 1px rgba(60, 64, 67, 0.15);\n",
              "      fill: #174EA6;\n",
              "    }\n",
              "\n",
              "    .colab-df-buttons div {\n",
              "      margin-bottom: 4px;\n",
              "    }\n",
              "\n",
              "    [theme=dark] .colab-df-convert {\n",
              "      background-color: #3B4455;\n",
              "      fill: #D2E3FC;\n",
              "    }\n",
              "\n",
              "    [theme=dark] .colab-df-convert:hover {\n",
              "      background-color: #434B5C;\n",
              "      box-shadow: 0px 1px 3px 1px rgba(0, 0, 0, 0.15);\n",
              "      filter: drop-shadow(0px 1px 2px rgba(0, 0, 0, 0.3));\n",
              "      fill: #FFFFFF;\n",
              "    }\n",
              "  </style>\n",
              "\n",
              "    <script>\n",
              "      const buttonEl =\n",
              "        document.querySelector('#df-6393847b-ddfe-4747-87b6-048c172bc24e button.colab-df-convert');\n",
              "      buttonEl.style.display =\n",
              "        google.colab.kernel.accessAllowed ? 'block' : 'none';\n",
              "\n",
              "      async function convertToInteractive(key) {\n",
              "        const element = document.querySelector('#df-6393847b-ddfe-4747-87b6-048c172bc24e');\n",
              "        const dataTable =\n",
              "          await google.colab.kernel.invokeFunction('convertToInteractive',\n",
              "                                                    [key], {});\n",
              "        if (!dataTable) return;\n",
              "\n",
              "        const docLinkHtml = 'Like what you see? Visit the ' +\n",
              "          '<a target=\"_blank\" href=https://colab.research.google.com/notebooks/data_table.ipynb>data table notebook</a>'\n",
              "          + ' to learn more about interactive tables.';\n",
              "        element.innerHTML = '';\n",
              "        dataTable['output_type'] = 'display_data';\n",
              "        await google.colab.output.renderOutput(dataTable, element);\n",
              "        const docLink = document.createElement('div');\n",
              "        docLink.innerHTML = docLinkHtml;\n",
              "        element.appendChild(docLink);\n",
              "      }\n",
              "    </script>\n",
              "  </div>\n",
              "\n",
              "\n",
              "<div id=\"df-6bdc9b3c-6c19-4c8b-a9e6-7d532eea218b\">\n",
              "  <button class=\"colab-df-quickchart\" onclick=\"quickchart('df-6bdc9b3c-6c19-4c8b-a9e6-7d532eea218b')\"\n",
              "            title=\"Suggest charts.\"\n",
              "            style=\"display:none;\">\n",
              "\n",
              "<svg xmlns=\"http://www.w3.org/2000/svg\" height=\"24px\"viewBox=\"0 0 24 24\"\n",
              "     width=\"24px\">\n",
              "    <g>\n",
              "        <path d=\"M19 3H5c-1.1 0-2 .9-2 2v14c0 1.1.9 2 2 2h14c1.1 0 2-.9 2-2V5c0-1.1-.9-2-2-2zM9 17H7v-7h2v7zm4 0h-2V7h2v10zm4 0h-2v-4h2v4z\"/>\n",
              "    </g>\n",
              "</svg>\n",
              "  </button>\n",
              "\n",
              "<style>\n",
              "  .colab-df-quickchart {\n",
              "      --bg-color: #E8F0FE;\n",
              "      --fill-color: #1967D2;\n",
              "      --hover-bg-color: #E2EBFA;\n",
              "      --hover-fill-color: #174EA6;\n",
              "      --disabled-fill-color: #AAA;\n",
              "      --disabled-bg-color: #DDD;\n",
              "  }\n",
              "\n",
              "  [theme=dark] .colab-df-quickchart {\n",
              "      --bg-color: #3B4455;\n",
              "      --fill-color: #D2E3FC;\n",
              "      --hover-bg-color: #434B5C;\n",
              "      --hover-fill-color: #FFFFFF;\n",
              "      --disabled-bg-color: #3B4455;\n",
              "      --disabled-fill-color: #666;\n",
              "  }\n",
              "\n",
              "  .colab-df-quickchart {\n",
              "    background-color: var(--bg-color);\n",
              "    border: none;\n",
              "    border-radius: 50%;\n",
              "    cursor: pointer;\n",
              "    display: none;\n",
              "    fill: var(--fill-color);\n",
              "    height: 32px;\n",
              "    padding: 0;\n",
              "    width: 32px;\n",
              "  }\n",
              "\n",
              "  .colab-df-quickchart:hover {\n",
              "    background-color: var(--hover-bg-color);\n",
              "    box-shadow: 0 1px 2px rgba(60, 64, 67, 0.3), 0 1px 3px 1px rgba(60, 64, 67, 0.15);\n",
              "    fill: var(--button-hover-fill-color);\n",
              "  }\n",
              "\n",
              "  .colab-df-quickchart-complete:disabled,\n",
              "  .colab-df-quickchart-complete:disabled:hover {\n",
              "    background-color: var(--disabled-bg-color);\n",
              "    fill: var(--disabled-fill-color);\n",
              "    box-shadow: none;\n",
              "  }\n",
              "\n",
              "  .colab-df-spinner {\n",
              "    border: 2px solid var(--fill-color);\n",
              "    border-color: transparent;\n",
              "    border-bottom-color: var(--fill-color);\n",
              "    animation:\n",
              "      spin 1s steps(1) infinite;\n",
              "  }\n",
              "\n",
              "  @keyframes spin {\n",
              "    0% {\n",
              "      border-color: transparent;\n",
              "      border-bottom-color: var(--fill-color);\n",
              "      border-left-color: var(--fill-color);\n",
              "    }\n",
              "    20% {\n",
              "      border-color: transparent;\n",
              "      border-left-color: var(--fill-color);\n",
              "      border-top-color: var(--fill-color);\n",
              "    }\n",
              "    30% {\n",
              "      border-color: transparent;\n",
              "      border-left-color: var(--fill-color);\n",
              "      border-top-color: var(--fill-color);\n",
              "      border-right-color: var(--fill-color);\n",
              "    }\n",
              "    40% {\n",
              "      border-color: transparent;\n",
              "      border-right-color: var(--fill-color);\n",
              "      border-top-color: var(--fill-color);\n",
              "    }\n",
              "    60% {\n",
              "      border-color: transparent;\n",
              "      border-right-color: var(--fill-color);\n",
              "    }\n",
              "    80% {\n",
              "      border-color: transparent;\n",
              "      border-right-color: var(--fill-color);\n",
              "      border-bottom-color: var(--fill-color);\n",
              "    }\n",
              "    90% {\n",
              "      border-color: transparent;\n",
              "      border-bottom-color: var(--fill-color);\n",
              "    }\n",
              "  }\n",
              "</style>\n",
              "\n",
              "  <script>\n",
              "    async function quickchart(key) {\n",
              "      const quickchartButtonEl =\n",
              "        document.querySelector('#' + key + ' button');\n",
              "      quickchartButtonEl.disabled = true;  // To prevent multiple clicks.\n",
              "      quickchartButtonEl.classList.add('colab-df-spinner');\n",
              "      try {\n",
              "        const charts = await google.colab.kernel.invokeFunction(\n",
              "            'suggestCharts', [key], {});\n",
              "      } catch (error) {\n",
              "        console.error('Error during call to suggestCharts:', error);\n",
              "      }\n",
              "      quickchartButtonEl.classList.remove('colab-df-spinner');\n",
              "      quickchartButtonEl.classList.add('colab-df-quickchart-complete');\n",
              "    }\n",
              "    (() => {\n",
              "      let quickchartButtonEl =\n",
              "        document.querySelector('#df-6bdc9b3c-6c19-4c8b-a9e6-7d532eea218b button');\n",
              "      quickchartButtonEl.style.display =\n",
              "        google.colab.kernel.accessAllowed ? 'block' : 'none';\n",
              "    })();\n",
              "  </script>\n",
              "</div>\n",
              "    </div>\n",
              "  </div>\n"
            ]
          },
          "metadata": {},
          "execution_count": 54
        }
      ]
    },
    {
      "cell_type": "markdown",
      "source": [
        "Let us look at columns and their names"
      ],
      "metadata": {
        "id": "B0b-o4WLY-lI"
      }
    },
    {
      "cell_type": "code",
      "source": [
        "print('Data type is',type(flats.columns))\n",
        "print(flats.columns)\n",
        "print(flats.columns.size)\n",
        "print(len(flats.columns))"
      ],
      "metadata": {
        "colab": {
          "base_uri": "https://localhost:8080/"
        },
        "id": "uXge_JwbTOHn",
        "outputId": "9673443f-5e55-4c29-be3b-0a4e1dd94143"
      },
      "execution_count": null,
      "outputs": [
        {
          "output_type": "stream",
          "name": "stdout",
          "text": [
            "Data type is <class 'pandas.core.indexes.base.Index'>\n",
            "Index(['Unnamed: 0', 'price', 'totsp', 'livesp', 'kitsp', 'dist', 'metrdist',\n",
            "       'walk', 'brick', 'floor', 'code'],\n",
            "      dtype='object')\n",
            "11\n",
            "11\n"
          ]
        }
      ]
    },
    {
      "cell_type": "markdown",
      "source": [
        "How to rename column? We want to rename kitsp to kitchensp\n",
        "Let us try?\n"
      ],
      "metadata": {
        "id": "Y2JeNCBMdN4W"
      }
    },
    {
      "cell_type": "code",
      "source": [
        "flats.rename(columns ={'kitsp':'kitchensp'})\n",
        "print(flats.columns)"
      ],
      "metadata": {
        "colab": {
          "base_uri": "https://localhost:8080/"
        },
        "id": "d3zzbIvydZ3S",
        "outputId": "2e8ea1be-743e-427c-e572-36e4bf2dfab3"
      },
      "execution_count": null,
      "outputs": [
        {
          "output_type": "stream",
          "name": "stdout",
          "text": [
            "Index(['Unnamed: 0', 'price', 'totsp', 'livesp', 'kitsp', 'dist', 'metrdist',\n",
            "       'walk', 'brick', 'floor', 'code'],\n",
            "      dtype='object')\n"
          ]
        }
      ]
    },
    {
      "cell_type": "markdown",
      "source": [
        "Nothing changed why?\n",
        "Becuase we this method by default settings: inplace=False"
      ],
      "metadata": {
        "id": "ZJLHX4JieFf9"
      }
    },
    {
      "cell_type": "code",
      "source": [
        "flats.rename(columns={'kitsp':'kitchensp'},inplace = True)\n",
        "print(flats.columns)"
      ],
      "metadata": {
        "colab": {
          "base_uri": "https://localhost:8080/"
        },
        "id": "iBoUeiJCeE5y",
        "outputId": "fe6c1957-16f0-4afd-9cad-9227fd1e1ad7"
      },
      "execution_count": null,
      "outputs": [
        {
          "output_type": "stream",
          "name": "stdout",
          "text": [
            "Index(['Unnamed: 0', 'price', 'totsp', 'livesp', 'kitchensp', 'dist',\n",
            "       'metrdist', 'walk', 'brick', 'floor', 'code'],\n",
            "      dtype='object')\n"
          ]
        }
      ]
    },
    {
      "cell_type": "markdown",
      "source": [
        "Some preliminary information on our dataset\n",
        "flats.info() we can know the datatype for each column\n",
        "and to know the number of NaNs values"
      ],
      "metadata": {
        "id": "sxOqFzmXfxuy"
      }
    },
    {
      "cell_type": "code",
      "source": [
        "flats.info()"
      ],
      "metadata": {
        "colab": {
          "base_uri": "https://localhost:8080/"
        },
        "id": "h_DYaDjDdRDD",
        "outputId": "ce1c30df-7431-40b4-8a68-df0e3da84b82"
      },
      "execution_count": null,
      "outputs": [
        {
          "output_type": "stream",
          "name": "stdout",
          "text": [
            "<class 'pandas.core.frame.DataFrame'>\n",
            "RangeIndex: 2040 entries, 0 to 2039\n",
            "Data columns (total 11 columns):\n",
            " #   Column      Non-Null Count  Dtype  \n",
            "---  ------      --------------  -----  \n",
            " 0   Unnamed: 0  2040 non-null   int64  \n",
            " 1   price       2040 non-null   int64  \n",
            " 2   totsp       2040 non-null   int64  \n",
            " 3   livesp      2040 non-null   int64  \n",
            " 4   kitchensp   2040 non-null   float64\n",
            " 5   dist        2040 non-null   float64\n",
            " 6   metrdist    2040 non-null   int64  \n",
            " 7   walk        2040 non-null   int64  \n",
            " 8   brick       2040 non-null   int64  \n",
            " 9   floor       2040 non-null   int64  \n",
            " 10  code        2040 non-null   int64  \n",
            "dtypes: float64(2), int64(9)\n",
            "memory usage: 175.4 KB\n"
          ]
        }
      ]
    },
    {
      "cell_type": "markdown",
      "source": [
        "# 2. Basic data exploration\n",
        "\n",
        "Lets do some basics:\n",
        "\n",
        "- `.count()` number of not NaN's in every column.\n",
        "- Is there any missing values in the data?\n",
        "- Count number of unique values in every column `.nunique()`.\n",
        "- What does this tells you about the features, which are most likely categorical and which are most likely numerical?\n",
        "- Use pandas `.describe()` to display basic statistic about the data.\n",
        "- Use pandas `.value_counts()` to count number of unique values in a specific column.\n",
        "- Use pandas `.min()`, `.max()`, `.mean()`, `.std()` to display specific statistics about the data.\n",
        "- Use pandas `.dtypes` field to display data types in columns.\n",
        "\n",
        "**Hint**\n",
        "You could use `.sort_index()` or `.sort_values()` to sort the result of `.value_counts()`"
      ],
      "metadata": {
        "id": "Ccb7a_rPg9Y0"
      }
    },
    {
      "cell_type": "code",
      "source": [
        "flats.count()"
      ],
      "metadata": {
        "colab": {
          "base_uri": "https://localhost:8080/"
        },
        "id": "bL6K_yWxg_wI",
        "outputId": "17feaa4d-3a28-468c-aabd-53555f80da01"
      },
      "execution_count": null,
      "outputs": [
        {
          "output_type": "execute_result",
          "data": {
            "text/plain": [
              "Unnamed: 0    2040\n",
              "price         2040\n",
              "totsp         2040\n",
              "livesp        2040\n",
              "kitchensp     2040\n",
              "dist          2040\n",
              "metrdist      2040\n",
              "walk          2040\n",
              "brick         2040\n",
              "floor         2040\n",
              "code          2040\n",
              "dtype: int64"
            ]
          },
          "metadata": {},
          "execution_count": 59
        }
      ]
    },
    {
      "cell_type": "markdown",
      "source": [
        "We are lucky today, no missing values indicated!"
      ],
      "metadata": {
        "id": "sNDX3QS7hEuL"
      }
    },
    {
      "cell_type": "markdown",
      "source": [
        "Count number of unique values in every column .nunique()"
      ],
      "metadata": {
        "id": "L9rQ1E-hhgZS"
      }
    },
    {
      "cell_type": "code",
      "source": [
        "flats.nunique()"
      ],
      "metadata": {
        "colab": {
          "base_uri": "https://localhost:8080/"
        },
        "id": "tG6tEyaJhgCI",
        "outputId": "85fb8dd5-0a06-4cd0-b0db-9ef6e592442e"
      },
      "execution_count": null,
      "outputs": [
        {
          "output_type": "execute_result",
          "data": {
            "text/plain": [
              "Unnamed: 0    2040\n",
              "price          180\n",
              "totsp           91\n",
              "livesp          58\n",
              "kitchensp       22\n",
              "dist            22\n",
              "metrdist        14\n",
              "walk             2\n",
              "brick            2\n",
              "floor            2\n",
              "code             8\n",
              "dtype: int64"
            ]
          },
          "metadata": {},
          "execution_count": 60
        }
      ]
    },
    {
      "cell_type": "markdown",
      "source": [
        "What is the maximum floor?"
      ],
      "metadata": {
        "id": "D_RzgHHJh-ch"
      }
    },
    {
      "cell_type": "code",
      "source": [
        "print(flats.floor.max())"
      ],
      "metadata": {
        "colab": {
          "base_uri": "https://localhost:8080/"
        },
        "id": "LxHDGXSkhK3m",
        "outputId": "676cbac7-e409-490a-8fc3-af34f359023d"
      },
      "execution_count": null,
      "outputs": [
        {
          "output_type": "stream",
          "name": "stdout",
          "text": [
            "1\n"
          ]
        }
      ]
    },
    {
      "cell_type": "code",
      "source": [
        "print(flats['floor'].max())"
      ],
      "metadata": {
        "colab": {
          "base_uri": "https://localhost:8080/"
        },
        "id": "s4I9954FifZy",
        "outputId": "bf9d95d3-37c8-489f-d567-0c4d59d65fa7"
      },
      "execution_count": null,
      "outputs": [
        {
          "output_type": "stream",
          "name": "stdout",
          "text": [
            "1\n"
          ]
        }
      ]
    },
    {
      "cell_type": "markdown",
      "source": [
        "What are unique codes?"
      ],
      "metadata": {
        "id": "0fKsgOCPi2Xg"
      }
    },
    {
      "cell_type": "code",
      "source": [
        "flats['code'].value_counts()"
      ],
      "metadata": {
        "colab": {
          "base_uri": "https://localhost:8080/"
        },
        "id": "zVE1Li2iisXO",
        "outputId": "1412b5a1-532a-4794-d4d7-b74b9449be28"
      },
      "execution_count": null,
      "outputs": [
        {
          "output_type": "execute_result",
          "data": {
            "text/plain": [
              "3    345\n",
              "5    336\n",
              "1    272\n",
              "6    257\n",
              "7    226\n",
              "2    215\n",
              "4    209\n",
              "8    180\n",
              "Name: code, dtype: int64"
            ]
          },
          "metadata": {},
          "execution_count": 63
        }
      ]
    },
    {
      "cell_type": "markdown",
      "source": [
        "One-dimensional ndarray with axis labels (including time series).\n",
        "We can rad further about this data type here:\n",
        "https://pandas.pydata.org/docs/reference/api/pandas.Series.html"
      ],
      "metadata": {
        "id": "QCT8VITak7UO"
      }
    },
    {
      "cell_type": "code",
      "source": [
        "type(flats['code'].value_counts())"
      ],
      "metadata": {
        "colab": {
          "base_uri": "https://localhost:8080/"
        },
        "id": "9D-sfGGki81v",
        "outputId": "057e924e-2fb9-45a8-dbe2-65c7f50d35bd"
      },
      "execution_count": null,
      "outputs": [
        {
          "output_type": "execute_result",
          "data": {
            "text/plain": [
              "pandas.core.series.Series"
            ]
          },
          "metadata": {},
          "execution_count": 64
        }
      ]
    },
    {
      "cell_type": "markdown",
      "source": [
        "# 3. Data selection\n",
        "\n",
        "In pandas.DataFrame you could select\n",
        "\n",
        "1. Row/s by position (integer number \\[0 .. number of rows - 1\\]) `.iloc` or by DataFrame.index `.loc`:\n",
        "```\n",
        "data.loc[0]\n",
        "data.loc[5:10]\n",
        "data.iloc[0]\n",
        "data.iloc[5:10]\n",
        "```\n",
        "\n",
        "*Though, this is probably the worst way to manipulate rows.*\n",
        "\n",
        "1. Columns by name\n",
        "\n",
        "```\n",
        "data[columname]\n",
        "\n",
        "```\n",
        "\n",
        "1. Row/s and columns\n",
        "\n",
        "```\n",
        "data.loc[10, columname]\n",
        "data.iloc[10, columname]\n",
        "\n",
        "```\n",
        "\n",
        "1. Using boolean mask\n",
        "\n",
        "```\n",
        "mask = data[columname] > value\n",
        "data[mask]\n",
        "\n",
        "```\n",
        "\n",
        "You could combine multiple conditions using `&` or `|` (and, or)\n",
        "\n",
        "```\n",
        "cond1 = data[columname1] > value1\n",
        "cond2 = data[columname2] > value2\n",
        "data[cond1 & cond2]\n",
        "\n",
        "```\n",
        "\n",
        "1. Using queries `.query()`:\n",
        "\n",
        "```\n",
        "value = 5\n",
        "data.query(\"columname > value\")\n",
        "\n",
        "```\n",
        "\n",
        "You could combine multiple conditions using `and`, `or`\n",
        "\n",
        "```\n",
        "data.query(\"(columname1 > value1) and (columname2 > value2)\")\n",
        "\n",
        "```\n",
        "\n",
        "and others. See https://pandas.pydata.org/pandas-docs/stable/user_guide/indexing.html for more examples.\n",
        "\n",
        "*Remember to use different quotation marks \" or ' for columnname inside a query.*"
      ],
      "metadata": {
        "id": "2PBqV83plVv_"
      }
    },
    {
      "cell_type": "markdown",
      "source": [
        "Let us look at features of flat that is first in the table"
      ],
      "metadata": {
        "id": "nV4sqq2uwdau"
      }
    },
    {
      "cell_type": "code",
      "source": [
        "flats.loc[0]"
      ],
      "metadata": {
        "colab": {
          "base_uri": "https://localhost:8080/"
        },
        "id": "KCd06uSolGGo",
        "outputId": "796d950d-2029-4571-ae04-5e176cb3cfe8"
      },
      "execution_count": null,
      "outputs": [
        {
          "output_type": "execute_result",
          "data": {
            "text/plain": [
              "Unnamed: 0     1.0\n",
              "price         81.0\n",
              "totsp         58.0\n",
              "livesp        40.0\n",
              "kitchensp      6.0\n",
              "dist          12.5\n",
              "metrdist       7.0\n",
              "walk           1.0\n",
              "brick          1.0\n",
              "floor          1.0\n",
              "code           3.0\n",
              "Name: 0, dtype: float64"
            ]
          },
          "metadata": {},
          "execution_count": 65
        }
      ]
    },
    {
      "cell_type": "code",
      "source": [
        "print(\"price of second home\", flats.loc[1,'price'])"
      ],
      "metadata": {
        "colab": {
          "base_uri": "https://localhost:8080/"
        },
        "id": "qqbtv4FmwlGG",
        "outputId": "e34d7ea9-6899-4f65-d39b-4241eea53deb"
      },
      "execution_count": null,
      "outputs": [
        {
          "output_type": "stream",
          "name": "stdout",
          "text": [
            "price of second home 75\n"
          ]
        }
      ]
    },
    {
      "cell_type": "code",
      "source": [
        "print(flats.loc[1:4,'price'])"
      ],
      "metadata": {
        "colab": {
          "base_uri": "https://localhost:8080/"
        },
        "id": "kkz9_5bILcSj",
        "outputId": "499daf93-7435-4553-d1dc-1c41ac988ba0"
      },
      "execution_count": null,
      "outputs": [
        {
          "output_type": "stream",
          "name": "stdout",
          "text": [
            "1     75\n",
            "2    128\n",
            "3     95\n",
            "4    330\n",
            "Name: price, dtype: int64\n"
          ]
        }
      ]
    },
    {
      "cell_type": "code",
      "source": [
        "print(flats.loc[1:4,['price','floor']])"
      ],
      "metadata": {
        "colab": {
          "base_uri": "https://localhost:8080/"
        },
        "id": "0okYhawkLiC4",
        "outputId": "5b92a345-3a80-48fa-bda0-24c3531e0a82"
      },
      "execution_count": null,
      "outputs": [
        {
          "output_type": "stream",
          "name": "stdout",
          "text": [
            "   price  floor\n",
            "1     75      1\n",
            "2    128      1\n",
            "3     95      1\n",
            "4    330      1\n"
          ]
        }
      ]
    },
    {
      "cell_type": "markdown",
      "source": [
        "Check condtions\n"
      ],
      "metadata": {
        "id": "ESAw57hRMDBq"
      }
    },
    {
      "cell_type": "code",
      "source": [
        "print('mean price',flats.price.mean())"
      ],
      "metadata": {
        "colab": {
          "base_uri": "https://localhost:8080/"
        },
        "id": "bH9Op4aCMGA8",
        "outputId": "d7e250ac-ea02-4d43-e399-8444ab1b196f"
      },
      "execution_count": null,
      "outputs": [
        {
          "output_type": "stream",
          "name": "stdout",
          "text": [
            "mean price 127.49656862745098\n"
          ]
        }
      ]
    },
    {
      "cell_type": "code",
      "source": [
        "flats[flats.price>120]"
      ],
      "metadata": {
        "colab": {
          "base_uri": "https://localhost:8080/",
          "height": 424
        },
        "id": "r4GihKePMQ9k",
        "outputId": "b98c4ed9-0c00-4e1e-96a1-10d56d166ead"
      },
      "execution_count": null,
      "outputs": [
        {
          "output_type": "execute_result",
          "data": {
            "text/plain": [
              "      Unnamed: 0  price  totsp  livesp  kitchensp  dist  metrdist  walk  \\\n",
              "2              3    128     70      42        6.0  14.5         3     1   \n",
              "4              5    330    104      60       11.0  10.5         7     0   \n",
              "5              6    137     76      50        9.0  11.0         7     1   \n",
              "8              9    225     80      56        9.0   9.0         5     1   \n",
              "9             10    140     86      51       10.0  12.7        10     1   \n",
              "...          ...    ...    ...     ...        ...   ...       ...   ...   \n",
              "2018        2019    145     75      46       10.0   9.0        15     1   \n",
              "2024        2025    130     75      45        8.0  11.0        10     1   \n",
              "2030        2031    129     64      39        9.0  13.5         5     0   \n",
              "2033        2034    180     79      45       10.0   8.0        15     1   \n",
              "2038        2039    129     76      48       10.0  12.5         5     0   \n",
              "\n",
              "      brick  floor  code  \n",
              "2         1      1     3  \n",
              "4         1      1     3  \n",
              "5         1      1     8  \n",
              "8         1      1     3  \n",
              "9         0      1     5  \n",
              "...     ...    ...   ...  \n",
              "2018      0      1     4  \n",
              "2024      1      1     8  \n",
              "2030      0      1     1  \n",
              "2033      0      1     1  \n",
              "2038      0      1     3  \n",
              "\n",
              "[873 rows x 11 columns]"
            ],
            "text/html": [
              "\n",
              "  <div id=\"df-1f0c1d63-a5ed-4233-87b8-5a5555f04a39\" class=\"colab-df-container\">\n",
              "    <div>\n",
              "<style scoped>\n",
              "    .dataframe tbody tr th:only-of-type {\n",
              "        vertical-align: middle;\n",
              "    }\n",
              "\n",
              "    .dataframe tbody tr th {\n",
              "        vertical-align: top;\n",
              "    }\n",
              "\n",
              "    .dataframe thead th {\n",
              "        text-align: right;\n",
              "    }\n",
              "</style>\n",
              "<table border=\"1\" class=\"dataframe\">\n",
              "  <thead>\n",
              "    <tr style=\"text-align: right;\">\n",
              "      <th></th>\n",
              "      <th>Unnamed: 0</th>\n",
              "      <th>price</th>\n",
              "      <th>totsp</th>\n",
              "      <th>livesp</th>\n",
              "      <th>kitchensp</th>\n",
              "      <th>dist</th>\n",
              "      <th>metrdist</th>\n",
              "      <th>walk</th>\n",
              "      <th>brick</th>\n",
              "      <th>floor</th>\n",
              "      <th>code</th>\n",
              "    </tr>\n",
              "  </thead>\n",
              "  <tbody>\n",
              "    <tr>\n",
              "      <th>2</th>\n",
              "      <td>3</td>\n",
              "      <td>128</td>\n",
              "      <td>70</td>\n",
              "      <td>42</td>\n",
              "      <td>6.0</td>\n",
              "      <td>14.5</td>\n",
              "      <td>3</td>\n",
              "      <td>1</td>\n",
              "      <td>1</td>\n",
              "      <td>1</td>\n",
              "      <td>3</td>\n",
              "    </tr>\n",
              "    <tr>\n",
              "      <th>4</th>\n",
              "      <td>5</td>\n",
              "      <td>330</td>\n",
              "      <td>104</td>\n",
              "      <td>60</td>\n",
              "      <td>11.0</td>\n",
              "      <td>10.5</td>\n",
              "      <td>7</td>\n",
              "      <td>0</td>\n",
              "      <td>1</td>\n",
              "      <td>1</td>\n",
              "      <td>3</td>\n",
              "    </tr>\n",
              "    <tr>\n",
              "      <th>5</th>\n",
              "      <td>6</td>\n",
              "      <td>137</td>\n",
              "      <td>76</td>\n",
              "      <td>50</td>\n",
              "      <td>9.0</td>\n",
              "      <td>11.0</td>\n",
              "      <td>7</td>\n",
              "      <td>1</td>\n",
              "      <td>1</td>\n",
              "      <td>1</td>\n",
              "      <td>8</td>\n",
              "    </tr>\n",
              "    <tr>\n",
              "      <th>8</th>\n",
              "      <td>9</td>\n",
              "      <td>225</td>\n",
              "      <td>80</td>\n",
              "      <td>56</td>\n",
              "      <td>9.0</td>\n",
              "      <td>9.0</td>\n",
              "      <td>5</td>\n",
              "      <td>1</td>\n",
              "      <td>1</td>\n",
              "      <td>1</td>\n",
              "      <td>3</td>\n",
              "    </tr>\n",
              "    <tr>\n",
              "      <th>9</th>\n",
              "      <td>10</td>\n",
              "      <td>140</td>\n",
              "      <td>86</td>\n",
              "      <td>51</td>\n",
              "      <td>10.0</td>\n",
              "      <td>12.7</td>\n",
              "      <td>10</td>\n",
              "      <td>1</td>\n",
              "      <td>0</td>\n",
              "      <td>1</td>\n",
              "      <td>5</td>\n",
              "    </tr>\n",
              "    <tr>\n",
              "      <th>...</th>\n",
              "      <td>...</td>\n",
              "      <td>...</td>\n",
              "      <td>...</td>\n",
              "      <td>...</td>\n",
              "      <td>...</td>\n",
              "      <td>...</td>\n",
              "      <td>...</td>\n",
              "      <td>...</td>\n",
              "      <td>...</td>\n",
              "      <td>...</td>\n",
              "      <td>...</td>\n",
              "    </tr>\n",
              "    <tr>\n",
              "      <th>2018</th>\n",
              "      <td>2019</td>\n",
              "      <td>145</td>\n",
              "      <td>75</td>\n",
              "      <td>46</td>\n",
              "      <td>10.0</td>\n",
              "      <td>9.0</td>\n",
              "      <td>15</td>\n",
              "      <td>1</td>\n",
              "      <td>0</td>\n",
              "      <td>1</td>\n",
              "      <td>4</td>\n",
              "    </tr>\n",
              "    <tr>\n",
              "      <th>2024</th>\n",
              "      <td>2025</td>\n",
              "      <td>130</td>\n",
              "      <td>75</td>\n",
              "      <td>45</td>\n",
              "      <td>8.0</td>\n",
              "      <td>11.0</td>\n",
              "      <td>10</td>\n",
              "      <td>1</td>\n",
              "      <td>1</td>\n",
              "      <td>1</td>\n",
              "      <td>8</td>\n",
              "    </tr>\n",
              "    <tr>\n",
              "      <th>2030</th>\n",
              "      <td>2031</td>\n",
              "      <td>129</td>\n",
              "      <td>64</td>\n",
              "      <td>39</td>\n",
              "      <td>9.0</td>\n",
              "      <td>13.5</td>\n",
              "      <td>5</td>\n",
              "      <td>0</td>\n",
              "      <td>0</td>\n",
              "      <td>1</td>\n",
              "      <td>1</td>\n",
              "    </tr>\n",
              "    <tr>\n",
              "      <th>2033</th>\n",
              "      <td>2034</td>\n",
              "      <td>180</td>\n",
              "      <td>79</td>\n",
              "      <td>45</td>\n",
              "      <td>10.0</td>\n",
              "      <td>8.0</td>\n",
              "      <td>15</td>\n",
              "      <td>1</td>\n",
              "      <td>0</td>\n",
              "      <td>1</td>\n",
              "      <td>1</td>\n",
              "    </tr>\n",
              "    <tr>\n",
              "      <th>2038</th>\n",
              "      <td>2039</td>\n",
              "      <td>129</td>\n",
              "      <td>76</td>\n",
              "      <td>48</td>\n",
              "      <td>10.0</td>\n",
              "      <td>12.5</td>\n",
              "      <td>5</td>\n",
              "      <td>0</td>\n",
              "      <td>0</td>\n",
              "      <td>1</td>\n",
              "      <td>3</td>\n",
              "    </tr>\n",
              "  </tbody>\n",
              "</table>\n",
              "<p>873 rows × 11 columns</p>\n",
              "</div>\n",
              "    <div class=\"colab-df-buttons\">\n",
              "\n",
              "  <div class=\"colab-df-container\">\n",
              "    <button class=\"colab-df-convert\" onclick=\"convertToInteractive('df-1f0c1d63-a5ed-4233-87b8-5a5555f04a39')\"\n",
              "            title=\"Convert this dataframe to an interactive table.\"\n",
              "            style=\"display:none;\">\n",
              "\n",
              "  <svg xmlns=\"http://www.w3.org/2000/svg\" height=\"24px\" viewBox=\"0 -960 960 960\">\n",
              "    <path d=\"M120-120v-720h720v720H120Zm60-500h600v-160H180v160Zm220 220h160v-160H400v160Zm0 220h160v-160H400v160ZM180-400h160v-160H180v160Zm440 0h160v-160H620v160ZM180-180h160v-160H180v160Zm440 0h160v-160H620v160Z\"/>\n",
              "  </svg>\n",
              "    </button>\n",
              "\n",
              "  <style>\n",
              "    .colab-df-container {\n",
              "      display:flex;\n",
              "      gap: 12px;\n",
              "    }\n",
              "\n",
              "    .colab-df-convert {\n",
              "      background-color: #E8F0FE;\n",
              "      border: none;\n",
              "      border-radius: 50%;\n",
              "      cursor: pointer;\n",
              "      display: none;\n",
              "      fill: #1967D2;\n",
              "      height: 32px;\n",
              "      padding: 0 0 0 0;\n",
              "      width: 32px;\n",
              "    }\n",
              "\n",
              "    .colab-df-convert:hover {\n",
              "      background-color: #E2EBFA;\n",
              "      box-shadow: 0px 1px 2px rgba(60, 64, 67, 0.3), 0px 1px 3px 1px rgba(60, 64, 67, 0.15);\n",
              "      fill: #174EA6;\n",
              "    }\n",
              "\n",
              "    .colab-df-buttons div {\n",
              "      margin-bottom: 4px;\n",
              "    }\n",
              "\n",
              "    [theme=dark] .colab-df-convert {\n",
              "      background-color: #3B4455;\n",
              "      fill: #D2E3FC;\n",
              "    }\n",
              "\n",
              "    [theme=dark] .colab-df-convert:hover {\n",
              "      background-color: #434B5C;\n",
              "      box-shadow: 0px 1px 3px 1px rgba(0, 0, 0, 0.15);\n",
              "      filter: drop-shadow(0px 1px 2px rgba(0, 0, 0, 0.3));\n",
              "      fill: #FFFFFF;\n",
              "    }\n",
              "  </style>\n",
              "\n",
              "    <script>\n",
              "      const buttonEl =\n",
              "        document.querySelector('#df-1f0c1d63-a5ed-4233-87b8-5a5555f04a39 button.colab-df-convert');\n",
              "      buttonEl.style.display =\n",
              "        google.colab.kernel.accessAllowed ? 'block' : 'none';\n",
              "\n",
              "      async function convertToInteractive(key) {\n",
              "        const element = document.querySelector('#df-1f0c1d63-a5ed-4233-87b8-5a5555f04a39');\n",
              "        const dataTable =\n",
              "          await google.colab.kernel.invokeFunction('convertToInteractive',\n",
              "                                                    [key], {});\n",
              "        if (!dataTable) return;\n",
              "\n",
              "        const docLinkHtml = 'Like what you see? Visit the ' +\n",
              "          '<a target=\"_blank\" href=https://colab.research.google.com/notebooks/data_table.ipynb>data table notebook</a>'\n",
              "          + ' to learn more about interactive tables.';\n",
              "        element.innerHTML = '';\n",
              "        dataTable['output_type'] = 'display_data';\n",
              "        await google.colab.output.renderOutput(dataTable, element);\n",
              "        const docLink = document.createElement('div');\n",
              "        docLink.innerHTML = docLinkHtml;\n",
              "        element.appendChild(docLink);\n",
              "      }\n",
              "    </script>\n",
              "  </div>\n",
              "\n",
              "\n",
              "<div id=\"df-923cf41c-de00-468b-b889-af3651639b51\">\n",
              "  <button class=\"colab-df-quickchart\" onclick=\"quickchart('df-923cf41c-de00-468b-b889-af3651639b51')\"\n",
              "            title=\"Suggest charts.\"\n",
              "            style=\"display:none;\">\n",
              "\n",
              "<svg xmlns=\"http://www.w3.org/2000/svg\" height=\"24px\"viewBox=\"0 0 24 24\"\n",
              "     width=\"24px\">\n",
              "    <g>\n",
              "        <path d=\"M19 3H5c-1.1 0-2 .9-2 2v14c0 1.1.9 2 2 2h14c1.1 0 2-.9 2-2V5c0-1.1-.9-2-2-2zM9 17H7v-7h2v7zm4 0h-2V7h2v10zm4 0h-2v-4h2v4z\"/>\n",
              "    </g>\n",
              "</svg>\n",
              "  </button>\n",
              "\n",
              "<style>\n",
              "  .colab-df-quickchart {\n",
              "      --bg-color: #E8F0FE;\n",
              "      --fill-color: #1967D2;\n",
              "      --hover-bg-color: #E2EBFA;\n",
              "      --hover-fill-color: #174EA6;\n",
              "      --disabled-fill-color: #AAA;\n",
              "      --disabled-bg-color: #DDD;\n",
              "  }\n",
              "\n",
              "  [theme=dark] .colab-df-quickchart {\n",
              "      --bg-color: #3B4455;\n",
              "      --fill-color: #D2E3FC;\n",
              "      --hover-bg-color: #434B5C;\n",
              "      --hover-fill-color: #FFFFFF;\n",
              "      --disabled-bg-color: #3B4455;\n",
              "      --disabled-fill-color: #666;\n",
              "  }\n",
              "\n",
              "  .colab-df-quickchart {\n",
              "    background-color: var(--bg-color);\n",
              "    border: none;\n",
              "    border-radius: 50%;\n",
              "    cursor: pointer;\n",
              "    display: none;\n",
              "    fill: var(--fill-color);\n",
              "    height: 32px;\n",
              "    padding: 0;\n",
              "    width: 32px;\n",
              "  }\n",
              "\n",
              "  .colab-df-quickchart:hover {\n",
              "    background-color: var(--hover-bg-color);\n",
              "    box-shadow: 0 1px 2px rgba(60, 64, 67, 0.3), 0 1px 3px 1px rgba(60, 64, 67, 0.15);\n",
              "    fill: var(--button-hover-fill-color);\n",
              "  }\n",
              "\n",
              "  .colab-df-quickchart-complete:disabled,\n",
              "  .colab-df-quickchart-complete:disabled:hover {\n",
              "    background-color: var(--disabled-bg-color);\n",
              "    fill: var(--disabled-fill-color);\n",
              "    box-shadow: none;\n",
              "  }\n",
              "\n",
              "  .colab-df-spinner {\n",
              "    border: 2px solid var(--fill-color);\n",
              "    border-color: transparent;\n",
              "    border-bottom-color: var(--fill-color);\n",
              "    animation:\n",
              "      spin 1s steps(1) infinite;\n",
              "  }\n",
              "\n",
              "  @keyframes spin {\n",
              "    0% {\n",
              "      border-color: transparent;\n",
              "      border-bottom-color: var(--fill-color);\n",
              "      border-left-color: var(--fill-color);\n",
              "    }\n",
              "    20% {\n",
              "      border-color: transparent;\n",
              "      border-left-color: var(--fill-color);\n",
              "      border-top-color: var(--fill-color);\n",
              "    }\n",
              "    30% {\n",
              "      border-color: transparent;\n",
              "      border-left-color: var(--fill-color);\n",
              "      border-top-color: var(--fill-color);\n",
              "      border-right-color: var(--fill-color);\n",
              "    }\n",
              "    40% {\n",
              "      border-color: transparent;\n",
              "      border-right-color: var(--fill-color);\n",
              "      border-top-color: var(--fill-color);\n",
              "    }\n",
              "    60% {\n",
              "      border-color: transparent;\n",
              "      border-right-color: var(--fill-color);\n",
              "    }\n",
              "    80% {\n",
              "      border-color: transparent;\n",
              "      border-right-color: var(--fill-color);\n",
              "      border-bottom-color: var(--fill-color);\n",
              "    }\n",
              "    90% {\n",
              "      border-color: transparent;\n",
              "      border-bottom-color: var(--fill-color);\n",
              "    }\n",
              "  }\n",
              "</style>\n",
              "\n",
              "  <script>\n",
              "    async function quickchart(key) {\n",
              "      const quickchartButtonEl =\n",
              "        document.querySelector('#' + key + ' button');\n",
              "      quickchartButtonEl.disabled = true;  // To prevent multiple clicks.\n",
              "      quickchartButtonEl.classList.add('colab-df-spinner');\n",
              "      try {\n",
              "        const charts = await google.colab.kernel.invokeFunction(\n",
              "            'suggestCharts', [key], {});\n",
              "      } catch (error) {\n",
              "        console.error('Error during call to suggestCharts:', error);\n",
              "      }\n",
              "      quickchartButtonEl.classList.remove('colab-df-spinner');\n",
              "      quickchartButtonEl.classList.add('colab-df-quickchart-complete');\n",
              "    }\n",
              "    (() => {\n",
              "      let quickchartButtonEl =\n",
              "        document.querySelector('#df-923cf41c-de00-468b-b889-af3651639b51 button');\n",
              "      quickchartButtonEl.style.display =\n",
              "        google.colab.kernel.accessAllowed ? 'block' : 'none';\n",
              "    })();\n",
              "  </script>\n",
              "</div>\n",
              "    </div>\n",
              "  </div>\n"
            ]
          },
          "metadata": {},
          "execution_count": 77
        }
      ]
    },
    {
      "cell_type": "markdown",
      "source": [
        "Question for this dataset for more expensive houses is closeer to metro?"
      ],
      "metadata": {
        "id": "L58HZGAAMqLL"
      }
    },
    {
      "cell_type": "code",
      "source": [
        "flats.walk.mean()"
      ],
      "metadata": {
        "colab": {
          "base_uri": "https://localhost:8080/"
        },
        "id": "03w9a-xKMnDF",
        "outputId": "e97340c1-b51b-4b52-8380-09bca80ec0bc"
      },
      "execution_count": null,
      "outputs": [
        {
          "output_type": "execute_result",
          "data": {
            "text/plain": [
              "0.6857843137254902"
            ]
          },
          "metadata": {},
          "execution_count": 81
        }
      ]
    },
    {
      "cell_type": "code",
      "source": [
        "flats[flats.price>120].walk.mean()"
      ],
      "metadata": {
        "colab": {
          "base_uri": "https://localhost:8080/"
        },
        "id": "YeP9K84vMabd",
        "outputId": "cb52d09c-b859-4d77-8437-bab9c47b4c40"
      },
      "execution_count": null,
      "outputs": [
        {
          "output_type": "execute_result",
          "data": {
            "text/plain": [
              "0.7686139747995419"
            ]
          },
          "metadata": {},
          "execution_count": 80
        }
      ]
    },
    {
      "cell_type": "markdown",
      "source": [
        "What is the mean price within walking distance to metro?\n",
        "\n",
        "\n"
      ],
      "metadata": {
        "id": "86dtz6c1NYVZ"
      }
    },
    {
      "cell_type": "code",
      "source": [
        "flats[flats['walk']==1]['price'].mean()"
      ],
      "metadata": {
        "colab": {
          "base_uri": "https://localhost:8080/"
        },
        "id": "KZXi3cXKNU-1",
        "outputId": "2a49b9be-c329-4224-c09a-2eaf85113f01"
      },
      "execution_count": null,
      "outputs": [
        {
          "output_type": "execute_result",
          "data": {
            "text/plain": [
              "132.83273766976413"
            ]
          },
          "metadata": {},
          "execution_count": 82
        }
      ]
    },
    {
      "cell_type": "markdown",
      "source": [
        "What is the mean price **not within** walking distance to metro?\n"
      ],
      "metadata": {
        "id": "jBeagXksNrXJ"
      }
    },
    {
      "cell_type": "code",
      "source": [
        "flats[flats['walk']==0]['price'].mean()"
      ],
      "metadata": {
        "colab": {
          "base_uri": "https://localhost:8080/"
        },
        "id": "ekqZ5fS7NpQa",
        "outputId": "893a2508-f4c6-4473-b9a0-e835a5f7ddab"
      },
      "execution_count": null,
      "outputs": [
        {
          "output_type": "execute_result",
          "data": {
            "text/plain": [
              "115.85023400936038"
            ]
          },
          "metadata": {},
          "execution_count": 83
        }
      ]
    },
    {
      "cell_type": "markdown",
      "source": [
        "What is the mean living area of the apartment for apartment on the floor==0 and within walking distance?\n",
        "\n",
        "condition: [(floor==1)&(walk==1)]?"
      ],
      "metadata": {
        "id": "7CzEgGBjOVRh"
      }
    },
    {
      "cell_type": "code",
      "source": [
        "flats[(flats['walk']==1)&(flats['floor']==0)]['livesp'].mean()"
      ],
      "metadata": {
        "colab": {
          "base_uri": "https://localhost:8080/"
        },
        "id": "N9-MBFknN5Pq",
        "outputId": "d083674e-030d-4b96-e292-c05099ffa3e5"
      },
      "execution_count": null,
      "outputs": [
        {
          "output_type": "execute_result",
          "data": {
            "text/plain": [
              "45.17607973421927"
            ]
          },
          "metadata": {},
          "execution_count": 84
        }
      ]
    },
    {
      "cell_type": "code",
      "source": [
        "flats[(flats['walk']==1)&(flats['floor']==0)]['livesp'].max()"
      ],
      "metadata": {
        "colab": {
          "base_uri": "https://localhost:8080/"
        },
        "id": "cOULmJ9kP_xP",
        "outputId": "bad607ca-fc33-40ad-b329-d4a6eb34165d"
      },
      "execution_count": null,
      "outputs": [
        {
          "output_type": "execute_result",
          "data": {
            "text/plain": [
              "75"
            ]
          },
          "metadata": {},
          "execution_count": 89
        }
      ]
    },
    {
      "cell_type": "markdown",
      "source": [
        "What is the maximum living area of the apartment for apartment on the walk==1 and with price < 200?"
      ],
      "metadata": {
        "id": "yVLIKf5gPk9c"
      }
    },
    {
      "cell_type": "code",
      "source": [
        "flats[(flats['walk']==1)&(flats['price']<200)]['livesp'].max()"
      ],
      "metadata": {
        "colab": {
          "base_uri": "https://localhost:8080/"
        },
        "id": "nIv8ECj-PGXp",
        "outputId": "23089738-3acb-4815-adf2-dc3f22dff46d"
      },
      "execution_count": null,
      "outputs": [
        {
          "output_type": "execute_result",
          "data": {
            "text/plain": [
              "78"
            ]
          },
          "metadata": {},
          "execution_count": 94
        }
      ]
    },
    {
      "cell_type": "code",
      "source": [
        "flats['livesp'].max()"
      ],
      "metadata": {
        "colab": {
          "base_uri": "https://localhost:8080/"
        },
        "id": "5EU5I_abQPKV",
        "outputId": "13bf944f-94bb-4a6a-9c6e-359ec6448f94"
      },
      "execution_count": null,
      "outputs": [
        {
          "output_type": "execute_result",
          "data": {
            "text/plain": [
              "102"
            ]
          },
          "metadata": {},
          "execution_count": 95
        }
      ]
    },
    {
      "cell_type": "code",
      "source": [],
      "metadata": {
        "id": "j-wxlBe1PxfW"
      },
      "execution_count": null,
      "outputs": []
    },
    {
      "cell_type": "markdown",
      "source": [
        "# 4. Data Visualization"
      ],
      "metadata": {
        "id": "vKKIwJyol6CO"
      }
    },
    {
      "cell_type": "markdown",
      "source": [
        "Import library for plotting\n",
        "\n",
        "(импорт библиотек для графиков)\n"
      ],
      "metadata": {
        "id": "hSQSYYkgQhsS"
      }
    },
    {
      "cell_type": "code",
      "source": [
        "%matplotlib inline\n",
        "import matplotlib.pyplot as plt\n",
        "import seaborn as sns"
      ],
      "metadata": {
        "id": "hd2kpzB_QqgI"
      },
      "execution_count": null,
      "outputs": []
    },
    {
      "cell_type": "markdown",
      "source": [
        "What is the dirtibution of prices?"
      ],
      "metadata": {
        "id": "yaYuC8jaP24O"
      }
    },
    {
      "cell_type": "code",
      "source": [
        "plt.hist(flats['price'])"
      ],
      "metadata": {
        "id": "jT68VhJKl_Ii",
        "colab": {
          "base_uri": "https://localhost:8080/",
          "height": 501
        },
        "outputId": "9ce8ee66-3049-4147-e31e-7c0c1d4ae687"
      },
      "execution_count": null,
      "outputs": [
        {
          "output_type": "execute_result",
          "data": {
            "text/plain": [
              "(array([1.078e+03, 7.990e+02, 1.100e+02, 2.500e+01, 1.500e+01, 7.000e+00,\n",
              "        4.000e+00, 1.000e+00, 0.000e+00, 1.000e+00]),\n",
              " array([ 50., 118., 186., 254., 322., 390., 458., 526., 594., 662., 730.]),\n",
              " <BarContainer object of 10 artists>)"
            ]
          },
          "metadata": {},
          "execution_count": 98
        },
        {
          "output_type": "display_data",
          "data": {
            "text/plain": [
              "<Figure size 640x480 with 1 Axes>"
            ],
            "image/png": "[encoded data removed]"
          },
          "metadata": {}
        }
      ]
    },
    {
      "cell_type": "markdown",
      "source": [
        "Чтобы графики красивее смотрелись"
      ],
      "metadata": {
        "id": "E9MlA9N2RmDO"
      }
    },
    {
      "cell_type": "code",
      "source": [
        "sns.set()"
      ],
      "metadata": {
        "id": "I0byprzeRqWB"
      },
      "execution_count": null,
      "outputs": []
    },
    {
      "cell_type": "markdown",
      "source": [
        "Сделаем подпись plt.title('Prices histogram')\n",
        "\n",
        "\n",
        "\n"
      ],
      "metadata": {
        "id": "kW5az0jaRUfJ"
      }
    },
    {
      "cell_type": "code",
      "source": [
        "#sns.set()\n",
        "plt.hist(flats['price'])\n",
        "plt.title('Prices histogram')\n"
      ],
      "metadata": {
        "colab": {
          "base_uri": "https://localhost:8080/",
          "height": 475
        },
        "id": "vfaithCTRff5",
        "outputId": "fd992185-3575-4376-85ca-cb49befd3c1f"
      },
      "execution_count": null,
      "outputs": [
        {
          "output_type": "execute_result",
          "data": {
            "text/plain": [
              "Text(0.5, 1.0, 'Prices histogram')"
            ]
          },
          "metadata": {},
          "execution_count": 104
        },
        {
          "output_type": "display_data",
          "data": {
            "text/plain": [
              "<Figure size 640x480 with 1 Axes>"
            ],
            "image/png": "[encoded data removed]"
          },
          "metadata": {}
        }
      ]
    },
    {
      "cell_type": "code",
      "source": [
        "sns.displot(flats[flats['livesp']<60]['price'])"
      ],
      "metadata": {
        "colab": {
          "base_uri": "https://localhost:8080/",
          "height": 519
        },
        "id": "YYzbTY3YSsoz",
        "outputId": "251fc090-42fb-48a2-c694-381c9aa5da4c"
      },
      "execution_count": null,
      "outputs": [
        {
          "output_type": "execute_result",
          "data": {
            "text/plain": [
              "<seaborn.axisgrid.FacetGrid at 0x7a0783bdfc40>"
            ]
          },
          "metadata": {},
          "execution_count": 108
        },
        {
          "output_type": "display_data",
          "data": {
            "text/plain": [
              "<Figure size 500x500 with 1 Axes>"
            ],
            "image/png": "[encoded data removed]"
          },
          "metadata": {}
        }
      ]
    },
    {
      "cell_type": "markdown",
      "source": [
        "Посмотрим на график распределения цен для квартир площадью больше 50 метров?"
      ],
      "metadata": {
        "id": "by3EkSsiR6nF"
      }
    },
    {
      "cell_type": "code",
      "source": [
        "plt.hist(flats[flats['livesp']>60]['price'])\n",
        "plt.title('Prices histogram')"
      ],
      "metadata": {
        "colab": {
          "base_uri": "https://localhost:8080/",
          "height": 475
        },
        "id": "RLh1IhqjR6Z0",
        "outputId": "5359f8ca-d6a0-43d9-a593-c58f3f94c7b2"
      },
      "execution_count": null,
      "outputs": [
        {
          "output_type": "execute_result",
          "data": {
            "text/plain": [
              "Text(0.5, 1.0, 'Prices histogram')"
            ]
          },
          "metadata": {},
          "execution_count": 106
        },
        {
          "output_type": "display_data",
          "data": {
            "text/plain": [
              "<Figure size 640x480 with 1 Axes>"
            ],
            "image/png": "[encoded data removed]"
          },
          "metadata": {}
        }
      ]
    },
    {
      "cell_type": "markdown",
      "source": [
        "Countplot:\n",
        "\n",
        "sns.countplot(y = 'code', data = flats)\n"
      ],
      "metadata": {
        "id": "C5y2E3IYTKyX"
      }
    },
    {
      "cell_type": "code",
      "source": [
        "sns.set()\n",
        "\n",
        "fig, ax = plt.subplots()\n",
        "ax = sns.countplot(y = 'code', data = flats)\n",
        "ax.set_title('Code countplot')\n",
        "ax.set_ylabel('')\n",
        "\n",
        "ax.set(ylabel='Codes')\n",
        "\n",
        "ax.set(xlabel='Number of flats')\n",
        "\n",
        "plt.show()"
      ],
      "metadata": {
        "colab": {
          "base_uri": "https://localhost:8080/",
          "height": 480
        },
        "id": "jvfTqBhWTM84",
        "outputId": "03d4ea2b-c727-4ef9-b413-aa40b692b755"
      },
      "execution_count": null,
      "outputs": [
        {
          "output_type": "display_data",
          "data": {
            "text/plain": [
              "<Figure size 640x480 with 1 Axes>"
            ],
            "image/png": "[encoded data removed]"
          },
          "metadata": {}
        }
      ]
    },
    {
      "cell_type": "markdown",
      "source": [
        "Comparison graphics"
      ],
      "metadata": {
        "id": "Nf6O4sjQSnV5"
      }
    },
    {
      "cell_type": "markdown",
      "source": [
        "Plot how maybe size of a flat and its price related?"
      ],
      "metadata": {
        "id": "nafefA_gT21j"
      }
    },
    {
      "cell_type": "code",
      "source": [],
      "metadata": {
        "id": "UGVAwk9bUmfM"
      },
      "execution_count": null,
      "outputs": []
    },
    {
      "cell_type": "code",
      "source": [
        "plt.regplot"
      ],
      "metadata": {
        "id": "oRaT6qYgVI3_"
      },
      "execution_count": null,
      "outputs": []
    },
    {
      "cell_type": "code",
      "source": [
        "plt.scatter(flats['price'].values,flats['livesp'].values)\n",
        "plt.xlabel('Price')\n",
        "plt.ylabel('Flat size')"
      ],
      "metadata": {
        "colab": {
          "base_uri": "https://localhost:8080/",
          "height": 476
        },
        "id": "sElAeBrNUPbx",
        "outputId": "980aa697-4088-4a8d-e5c1-44c50bbc8357"
      },
      "execution_count": null,
      "outputs": [
        {
          "output_type": "execute_result",
          "data": {
            "text/plain": [
              "Text(0, 0.5, 'Flat size')"
            ]
          },
          "metadata": {},
          "execution_count": 119
        },
        {
          "output_type": "display_data",
          "data": {
            "text/plain": [
              "<Figure size 640x480 with 1 Axes>"
            ],
            "image/png": "[encoded data removed]"
          },
          "metadata": {}
        }
      ]
    },
    {
      "cell_type": "markdown",
      "source": [
        "Take walking distance into account"
      ],
      "metadata": {
        "id": "ZZBIGEkIYjsD"
      }
    },
    {
      "cell_type": "code",
      "source": [
        "sns.set()\n",
        "\n",
        "fig, ax = plt.subplots()\n",
        "scatter1 = ax.scatter(flats['price'].values,flats['livesp'].values, c=flats['walk'])\n",
        "ax.set_title('Prices and size of flats')\n",
        "\n",
        "\n",
        "legend1 = ax.legend(*scatter1.legend_elements(),\n",
        "                    loc=\"upper right\", title=\"Walk\")\n",
        "ax.add_artist(legend1)\n",
        "\n",
        "ax.set(ylabel='Flat size')\n",
        "\n",
        "ax.set(xlabel='Prices')\n",
        "\n",
        "plt.show()"
      ],
      "metadata": {
        "colab": {
          "base_uri": "https://localhost:8080/",
          "height": 480
        },
        "id": "Lp48BvTUTwkm",
        "outputId": "536dcde7-a7da-40ed-80a3-ddf0e0761576"
      },
      "execution_count": null,
      "outputs": [
        {
          "output_type": "display_data",
          "data": {
            "text/plain": [
              "<Figure size 640x480 with 1 Axes>"
            ],
            "image/png": "[encoded data removed]"
          },
          "metadata": {}
        }
      ]
    },
    {
      "cell_type": "markdown",
      "source": [
        "Box plot for data"
      ],
      "metadata": {
        "id": "rCYT6Fggru2h"
      }
    },
    {
      "cell_type": "code",
      "source": [
        "plt.figure(figsize = (20, 10))\n",
        "sns.boxplot(data = flats[['price','livesp']], width = 0.8)\n",
        "plt.show()"
      ],
      "metadata": {
        "id": "g04K0tgoSmrM"
      },
      "execution_count": null,
      "outputs": []
    }
  ]
}