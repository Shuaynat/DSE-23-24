{
  "nbformat": 4,
  "nbformat_minor": 0,
  "metadata": {
    "colab": {
      "provenance": [],
      "toc_visible": true
    },
    "kernelspec": {
      "name": "python3",
      "display_name": "Python 3"
    },
    "language_info": {
      "name": "python"
    }
  },
  "cells": [
    {
      "cell_type": "markdown",
      "source": [
        "# Home Assignment-1 (Part 2 - practice with data)\n",
        "\n",
        "### **Nothing fancy - just making friends with 🐍 and 🐼**\n",
        "\n",
        "**Deadline: 29-09-2023 23:59**\n",
        "\n",
        "Pelase, beware - works submitted after the deadline won't be graded!!\n",
        "\n",
        "But there is always place for some magic in our lifes, and our course is not an exception...  so for the whole course you are granted with 4 honney barrels 🍯🍯🍯🍯\n",
        "\n",
        "The rules of using honney barrels are simple (tpycally, all magical objects are simple in use, the challenge is to find these objects):\n",
        "\n",
        "* Each barrel allows you to suspend the deadline of assignment submission for 1 day\n",
        "\n",
        "* Each barrel can be used only once, so use them wisely\n",
        "\n",
        "* You can't use barrels to suspend the dedline of the final group projects\n",
        "\n",
        "\n",
        "\n",
        "Enjoy✨\n",
        "\n",
        "\n",
        "\n",
        "\n",
        "\n",
        "\n",
        "\n",
        "\n"
      ],
      "metadata": {
        "id": "Exm06R1pDrOd"
      }
    },
    {
      "cell_type": "code",
      "execution_count": null,
      "metadata": {
        "colab": {
          "base_uri": "https://localhost:8080/"
        },
        "id": "3PmtkqWpDaCm",
        "outputId": "76cb4266-ed80-4439-c3f7-deda820d348e"
      },
      "outputs": [
        {
          "output_type": "stream",
          "name": "stdout",
          "text": [
            "--2023-09-11 12:16:51--  https://raw.githubusercontent.com/Shuaynat/DSE-23-24/main/02-classes/googleplaystore.csv\n",
            "Resolving raw.githubusercontent.com (raw.githubusercontent.com)... 185.199.111.133, 185.199.110.133, 185.199.108.133, ...\n",
            "Connecting to raw.githubusercontent.com (raw.githubusercontent.com)|185.199.111.133|:443... connected.\n",
            "HTTP request sent, awaiting response... 200 OK\n",
            "Length: 1360155 (1.3M) [text/plain]\n",
            "Saving to: ‘googleplaystore.csv’\n",
            "\n",
            "googleplaystore.csv 100%[===================>]   1.30M  --.-KB/s    in 0.05s   \n",
            "\n",
            "2023-09-11 12:16:52 (23.8 MB/s) - ‘googleplaystore.csv’ saved [1360155/1360155]\n",
            "\n",
            "--2023-09-11 12:16:52--  https://raw.githubusercontent.com/Shuaynat/DSE-23-24/main/02-classes/googleplaystore_user_reviews.csv\n",
            "Resolving raw.githubusercontent.com (raw.githubusercontent.com)... 185.199.108.133, 185.199.109.133, 185.199.110.133, ...\n",
            "Connecting to raw.githubusercontent.com (raw.githubusercontent.com)|185.199.108.133|:443... connected.\n",
            "HTTP request sent, awaiting response... 200 OK\n",
            "Length: 7669276 (7.3M) [text/plain]\n",
            "Saving to: ‘googleplaystore_user_reviews.csv’\n",
            "\n",
            "googleplaystore_use 100%[===================>]   7.31M  --.-KB/s    in 0.09s   \n",
            "\n",
            "2023-09-11 12:16:52 (85.1 MB/s) - ‘googleplaystore_user_reviews.csv’ saved [7669276/7669276]\n",
            "\n"
          ]
        }
      ],
      "source": [
        "!wget https://raw.githubusercontent.com/Shuaynat/DSE-23-24/main/02-classes/googleplaystore.csv\n",
        "!wget https://raw.githubusercontent.com/Shuaynat/DSE-23-24/main/02-classes/googleplaystore_user_reviews.csv"
      ]
    },
    {
      "cell_type": "markdown",
      "source": [
        "🧚 Loading data"
      ],
      "metadata": {
        "id": "xX33T2v-Eooy"
      }
    },
    {
      "cell_type": "code",
      "source": [
        "import pandas as pd\n",
        "\n",
        "apps = pd.read_csv('googleplaystore.csv')\n",
        "reviews = pd.read_csv('googleplaystore_user_reviews.csv')"
      ],
      "metadata": {
        "id": "YKOE7b5bEn7a"
      },
      "execution_count": null,
      "outputs": []
    },
    {
      "cell_type": "markdown",
      "source": [
        "🧚 Now, before diving into data, let's do small cleaning and change fromat of \"Size\" variable\n",
        "\n",
        "Please, just run the code below, to chang the type.\n",
        "\n",
        "🔗[Documentation: apply](https://pandas.pydata.org/pandas-docs/stable/reference/api/pandas.DataFrame.apply.html)\n",
        "\n"
      ],
      "metadata": {
        "id": "Dx2V3UsBNSmL"
      }
    },
    {
      "cell_type": "code",
      "source": [
        "# Just run the code below\n",
        "# Define the funtion that changes representation of the variable\n",
        "# No coding in needed, yes, and it's not a joke :)\n",
        "def to_number(x):\n",
        "    mult =1\n",
        "    if x[-1]==\"M\":\n",
        "      mult = 10**6\n",
        "    if x[-1]==\"k\":\n",
        "      mult = 10**3\n",
        "    x_new = x[:-1].replace(\",\",\".\")\n",
        "\n",
        "    return mult*float(x_new)\n",
        "\n",
        "# Use our custom fucntion to change the variable types\n",
        "apps.Size[apps.Size!='Varies with device'] = apps.Size[apps.Size!='Varies with device'].apply(to_number)"
      ],
      "metadata": {
        "id": "tgb7Vk3gNO1_"
      },
      "execution_count": null,
      "outputs": []
    },
    {
      "cell_type": "markdown",
      "source": [
        "# Exercises"
      ],
      "metadata": {
        "id": "5QdMPtfXLG3O"
      }
    },
    {
      "cell_type": "markdown",
      "source": [
        "# Data analysis"
      ],
      "metadata": {
        "id": "dBd7A8kQLaED"
      }
    },
    {
      "cell_type": "markdown",
      "source": [
        "## 1.1 What is the mean price of apps with type Paid? (1 point)"
      ],
      "metadata": {
        "id": "apicGompLfFF"
      }
    },
    {
      "cell_type": "code",
      "source": [
        "# type your code below ๑(◕‿◕)๑"
      ],
      "metadata": {
        "id": "FqasjQ7KLXjI"
      },
      "execution_count": null,
      "outputs": []
    },
    {
      "cell_type": "markdown",
      "source": [
        "##1.2 Plot the countplot for column Content Rating for apps dataset. (1 point)"
      ],
      "metadata": {
        "id": "qq5S-GGKMARj"
      }
    },
    {
      "cell_type": "code",
      "source": [
        "# type your code below ๑(◕‿◕)๑"
      ],
      "metadata": {
        "id": "UpeQybklMKxH"
      },
      "execution_count": null,
      "outputs": []
    },
    {
      "cell_type": "markdown",
      "source": [
        "##1.3 Calculate the mean size of the app for those apps that do not their size 'Varies with device' for each category. (1 point)\n"
      ],
      "metadata": {
        "id": "FSsIe6ifOWty"
      }
    },
    {
      "cell_type": "code",
      "source": [
        "# type your code below ๑(◕‿◕)๑"
      ],
      "metadata": {
        "id": "o7mYERS8OSpd"
      },
      "execution_count": null,
      "outputs": []
    },
    {
      "cell_type": "markdown",
      "source": [
        "##1.4 Plot histogram of rating of apps (1 point)"
      ],
      "metadata": {
        "id": "I-QjH-psUJ0D"
      }
    },
    {
      "cell_type": "code",
      "source": [
        "# type your code below ๑(◕‿◕)๑"
      ],
      "metadata": {
        "id": "4N42lmbUUJgQ"
      },
      "execution_count": null,
      "outputs": []
    },
    {
      "cell_type": "markdown",
      "source": [
        "##1.5 Print top 5 most negative reviews (1 point)\n"
      ],
      "metadata": {
        "id": "dgBxdDsbSKtC"
      }
    },
    {
      "cell_type": "code",
      "source": [
        "# type your code below ๑(◕‿◕)๑"
      ],
      "metadata": {
        "id": "NY8HSqakNlOb"
      },
      "execution_count": null,
      "outputs": []
    },
    {
      "cell_type": "markdown",
      "source": [
        "##1.6 Print app with largest number of reviews. (1 point)\n"
      ],
      "metadata": {
        "id": "jkv0ajuMVB_W"
      }
    },
    {
      "cell_type": "code",
      "source": [
        "# type your code below ๑(◕‿◕)๑"
      ],
      "metadata": {
        "id": "YEg3uAbVVd33"
      },
      "execution_count": null,
      "outputs": []
    },
    {
      "cell_type": "markdown",
      "source": [
        "##1.7 Print percentage of positive reviews for each category (1 point)"
      ],
      "metadata": {
        "id": "5Q6R0GrQWYAz"
      }
    },
    {
      "cell_type": "code",
      "source": [
        "# type your code below ๑(◕‿◕)๑"
      ],
      "metadata": {
        "id": "zyJ6YSXwWgU6"
      },
      "execution_count": null,
      "outputs": []
    },
    {
      "cell_type": "markdown",
      "source": [
        "##1.8 Print category of apps with lowest sentiment subjectivity (1 point)"
      ],
      "metadata": {
        "id": "AZOGv5MMXA-m"
      }
    },
    {
      "cell_type": "code",
      "source": [
        "# type your code below ๑(◕‿◕)๑"
      ],
      "metadata": {
        "id": "XHpbsxshXt0z"
      },
      "execution_count": null,
      "outputs": []
    },
    {
      "cell_type": "markdown",
      "source": [
        "#Plotting"
      ],
      "metadata": {
        "id": "EY3s0AxBYHeb"
      }
    },
    {
      "cell_type": "markdown",
      "source": [
        "## 1.9 Plot distribution of prices for Teen content Rating (1 point)"
      ],
      "metadata": {
        "id": "VS5EkvACWx77"
      }
    },
    {
      "cell_type": "markdown",
      "source": [
        "🧚 Do not forget to make title, add axes ticks and axes labels!"
      ],
      "metadata": {
        "id": "CfeBUYtW11un"
      }
    },
    {
      "cell_type": "code",
      "source": [
        "# type your code below ๑(◕‿◕)๑"
      ],
      "metadata": {
        "id": "E-wT35S22L0_"
      },
      "execution_count": null,
      "outputs": []
    },
    {
      "cell_type": "markdown",
      "source": [
        "##1.10 Plot boxplot of rating for Paid and Free on same graph but different axes (1 point)"
      ],
      "metadata": {
        "id": "dcOroTmhYLk6"
      }
    },
    {
      "cell_type": "code",
      "source": [
        "# type your code below ๑(◕‿◕)๑"
      ],
      "metadata": {
        "id": "D5jVQHqrYLB7"
      },
      "execution_count": null,
      "outputs": []
    }
  ]
}