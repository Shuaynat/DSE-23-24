{
  "nbformat": 4,
  "nbformat_minor": 0,
  "metadata": {
    "colab": {
      "provenance": []
    },
    "kernelspec": {
      "name": "python3",
      "display_name": "Python 3"
    },
    "language_info": {
      "name": "python"
    }
  },
  "cells": [
    {
      "cell_type": "markdown",
      "source": [
        "# DSE HA-3\n",
        "# **Creating your own Sorting Hogwarts Hat ✨**"
      ],
      "metadata": {
        "id": "M4TC5R4WaZoI"
      }
    },
    {
      "cell_type": "markdown",
      "source": [
        "The aim of this task is to constuct ML model that predicts  Hogwarts Houses based on students forces (the target variable is `Hogwarts House`)\n",
        "\n",
        "Good luck, dear wizards!"
      ],
      "metadata": {
        "id": "HCxHikKAnH0P"
      }
    },
    {
      "cell_type": "code",
      "execution_count": null,
      "metadata": {
        "id": "J-9Xfjg3X5-V"
      },
      "outputs": [],
      "source": [
        "import pandas as pd\n",
        "\n",
        "data = pd.read_csv(\"https://raw.githubusercontent.com/Shuaynat/DSE-23-24/main/02-home-assignments/ha-03-practice/ha-3_dataset.csv\")"
      ]
    },
    {
      "cell_type": "code",
      "source": [
        "data.head()"
      ],
      "metadata": {
        "colab": {
          "base_uri": "https://localhost:8080/",
          "height": 365
        },
        "id": "sjMne2P2sKhH",
        "outputId": "4ebe927c-d457-45d1-ddc1-37871db59f3f"
      },
      "execution_count": null,
      "outputs": [
        {
          "output_type": "execute_result",
          "data": {
            "text/plain": [
              "   Index Hogwarts House First Name  Last Name    Birthday Best Hand  \\\n",
              "0      0      Ravenclaw     Tamara        Hsu  2000-03-30      Left   \n",
              "1      1      Slytherin      Erich    Paredes  1999-10-14     Right   \n",
              "2      2      Ravenclaw   Stephany      Braun  1999-11-03      Left   \n",
              "3      3     Gryffindor      Vesta  Mcmichael  2000-08-19      Left   \n",
              "4      4     Gryffindor     Gaston      Gibbs  1998-09-27      Left   \n",
              "\n",
              "   Arithmancy   Astronomy  Herbology  Defense Against the Dark Arts  \\\n",
              "0     58384.0 -487.886086   5.727180                       4.878861   \n",
              "1     67239.0 -552.060507  -5.987446                       5.520605   \n",
              "2     23702.0 -366.076117   7.725017                       3.660761   \n",
              "3     32667.0  697.742809  -6.497214                      -6.977428   \n",
              "4     60158.0  436.775204  -7.820623                            NaN   \n",
              "\n",
              "   Divination  Muggle Studies  Ancient Runes  History of Magic  \\\n",
              "0       4.722      272.035831     532.484226          5.231058   \n",
              "1      -5.612     -487.340557     367.760303          4.107170   \n",
              "2       6.140      664.893521     602.585284          3.555579   \n",
              "3       4.026     -537.001128     523.982133         -4.809637   \n",
              "4       2.236     -444.262537     599.324514         -3.444377   \n",
              "\n",
              "   Transfiguration   Potions  Care of Magical Creatures     Charms  Flying  \n",
              "0      1039.788281  3.790369                   0.715939 -232.79405  -26.89  \n",
              "1      1058.944592  7.248742                   0.091674 -252.18425 -113.45  \n",
              "2      1088.088348  8.728531                  -0.515327 -227.34265   30.42  \n",
              "3       920.391449  0.821911                  -0.014040 -256.84675  200.64  \n",
              "4       937.434724  4.311066                  -0.264070 -256.38730  157.98  "
            ],
            "text/html": [
              "\n",
              "  <div id=\"df-e67bc55e-7d21-4795-9ad4-bc8ff53cc006\" class=\"colab-df-container\">\n",
              "    <div>\n",
              "<style scoped>\n",
              "    .dataframe tbody tr th:only-of-type {\n",
              "        vertical-align: middle;\n",
              "    }\n",
              "\n",
              "    .dataframe tbody tr th {\n",
              "        vertical-align: top;\n",
              "    }\n",
              "\n",
              "    .dataframe thead th {\n",
              "        text-align: right;\n",
              "    }\n",
              "</style>\n",
              "<table border=\"1\" class=\"dataframe\">\n",
              "  <thead>\n",
              "    <tr style=\"text-align: right;\">\n",
              "      <th></th>\n",
              "      <th>Index</th>\n",
              "      <th>Hogwarts House</th>\n",
              "      <th>First Name</th>\n",
              "      <th>Last Name</th>\n",
              "      <th>Birthday</th>\n",
              "      <th>Best Hand</th>\n",
              "      <th>Arithmancy</th>\n",
              "      <th>Astronomy</th>\n",
              "      <th>Herbology</th>\n",
              "      <th>Defense Against the Dark Arts</th>\n",
              "      <th>Divination</th>\n",
              "      <th>Muggle Studies</th>\n",
              "      <th>Ancient Runes</th>\n",
              "      <th>History of Magic</th>\n",
              "      <th>Transfiguration</th>\n",
              "      <th>Potions</th>\n",
              "      <th>Care of Magical Creatures</th>\n",
              "      <th>Charms</th>\n",
              "      <th>Flying</th>\n",
              "    </tr>\n",
              "  </thead>\n",
              "  <tbody>\n",
              "    <tr>\n",
              "      <th>0</th>\n",
              "      <td>0</td>\n",
              "      <td>Ravenclaw</td>\n",
              "      <td>Tamara</td>\n",
              "      <td>Hsu</td>\n",
              "      <td>2000-03-30</td>\n",
              "      <td>Left</td>\n",
              "      <td>58384.0</td>\n",
              "      <td>-487.886086</td>\n",
              "      <td>5.727180</td>\n",
              "      <td>4.878861</td>\n",
              "      <td>4.722</td>\n",
              "      <td>272.035831</td>\n",
              "      <td>532.484226</td>\n",
              "      <td>5.231058</td>\n",
              "      <td>1039.788281</td>\n",
              "      <td>3.790369</td>\n",
              "      <td>0.715939</td>\n",
              "      <td>-232.79405</td>\n",
              "      <td>-26.89</td>\n",
              "    </tr>\n",
              "    <tr>\n",
              "      <th>1</th>\n",
              "      <td>1</td>\n",
              "      <td>Slytherin</td>\n",
              "      <td>Erich</td>\n",
              "      <td>Paredes</td>\n",
              "      <td>1999-10-14</td>\n",
              "      <td>Right</td>\n",
              "      <td>67239.0</td>\n",
              "      <td>-552.060507</td>\n",
              "      <td>-5.987446</td>\n",
              "      <td>5.520605</td>\n",
              "      <td>-5.612</td>\n",
              "      <td>-487.340557</td>\n",
              "      <td>367.760303</td>\n",
              "      <td>4.107170</td>\n",
              "      <td>1058.944592</td>\n",
              "      <td>7.248742</td>\n",
              "      <td>0.091674</td>\n",
              "      <td>-252.18425</td>\n",
              "      <td>-113.45</td>\n",
              "    </tr>\n",
              "    <tr>\n",
              "      <th>2</th>\n",
              "      <td>2</td>\n",
              "      <td>Ravenclaw</td>\n",
              "      <td>Stephany</td>\n",
              "      <td>Braun</td>\n",
              "      <td>1999-11-03</td>\n",
              "      <td>Left</td>\n",
              "      <td>23702.0</td>\n",
              "      <td>-366.076117</td>\n",
              "      <td>7.725017</td>\n",
              "      <td>3.660761</td>\n",
              "      <td>6.140</td>\n",
              "      <td>664.893521</td>\n",
              "      <td>602.585284</td>\n",
              "      <td>3.555579</td>\n",
              "      <td>1088.088348</td>\n",
              "      <td>8.728531</td>\n",
              "      <td>-0.515327</td>\n",
              "      <td>-227.34265</td>\n",
              "      <td>30.42</td>\n",
              "    </tr>\n",
              "    <tr>\n",
              "      <th>3</th>\n",
              "      <td>3</td>\n",
              "      <td>Gryffindor</td>\n",
              "      <td>Vesta</td>\n",
              "      <td>Mcmichael</td>\n",
              "      <td>2000-08-19</td>\n",
              "      <td>Left</td>\n",
              "      <td>32667.0</td>\n",
              "      <td>697.742809</td>\n",
              "      <td>-6.497214</td>\n",
              "      <td>-6.977428</td>\n",
              "      <td>4.026</td>\n",
              "      <td>-537.001128</td>\n",
              "      <td>523.982133</td>\n",
              "      <td>-4.809637</td>\n",
              "      <td>920.391449</td>\n",
              "      <td>0.821911</td>\n",
              "      <td>-0.014040</td>\n",
              "      <td>-256.84675</td>\n",
              "      <td>200.64</td>\n",
              "    </tr>\n",
              "    <tr>\n",
              "      <th>4</th>\n",
              "      <td>4</td>\n",
              "      <td>Gryffindor</td>\n",
              "      <td>Gaston</td>\n",
              "      <td>Gibbs</td>\n",
              "      <td>1998-09-27</td>\n",
              "      <td>Left</td>\n",
              "      <td>60158.0</td>\n",
              "      <td>436.775204</td>\n",
              "      <td>-7.820623</td>\n",
              "      <td>NaN</td>\n",
              "      <td>2.236</td>\n",
              "      <td>-444.262537</td>\n",
              "      <td>599.324514</td>\n",
              "      <td>-3.444377</td>\n",
              "      <td>937.434724</td>\n",
              "      <td>4.311066</td>\n",
              "      <td>-0.264070</td>\n",
              "      <td>-256.38730</td>\n",
              "      <td>157.98</td>\n",
              "    </tr>\n",
              "  </tbody>\n",
              "</table>\n",
              "</div>\n",
              "    <div class=\"colab-df-buttons\">\n",
              "\n",
              "  <div class=\"colab-df-container\">\n",
              "    <button class=\"colab-df-convert\" onclick=\"convertToInteractive('df-e67bc55e-7d21-4795-9ad4-bc8ff53cc006')\"\n",
              "            title=\"Convert this dataframe to an interactive table.\"\n",
              "            style=\"display:none;\">\n",
              "\n",
              "  <svg xmlns=\"http://www.w3.org/2000/svg\" height=\"24px\" viewBox=\"0 -960 960 960\">\n",
              "    <path d=\"M120-120v-720h720v720H120Zm60-500h600v-160H180v160Zm220 220h160v-160H400v160Zm0 220h160v-160H400v160ZM180-400h160v-160H180v160Zm440 0h160v-160H620v160ZM180-180h160v-160H180v160Zm440 0h160v-160H620v160Z\"/>\n",
              "  </svg>\n",
              "    </button>\n",
              "\n",
              "  <style>\n",
              "    .colab-df-container {\n",
              "      display:flex;\n",
              "      gap: 12px;\n",
              "    }\n",
              "\n",
              "    .colab-df-convert {\n",
              "      background-color: #E8F0FE;\n",
              "      border: none;\n",
              "      border-radius: 50%;\n",
              "      cursor: pointer;\n",
              "      display: none;\n",
              "      fill: #1967D2;\n",
              "      height: 32px;\n",
              "      padding: 0 0 0 0;\n",
              "      width: 32px;\n",
              "    }\n",
              "\n",
              "    .colab-df-convert:hover {\n",
              "      background-color: #E2EBFA;\n",
              "      box-shadow: 0px 1px 2px rgba(60, 64, 67, 0.3), 0px 1px 3px 1px rgba(60, 64, 67, 0.15);\n",
              "      fill: #174EA6;\n",
              "    }\n",
              "\n",
              "    .colab-df-buttons div {\n",
              "      margin-bottom: 4px;\n",
              "    }\n",
              "\n",
              "    [theme=dark] .colab-df-convert {\n",
              "      background-color: #3B4455;\n",
              "      fill: #D2E3FC;\n",
              "    }\n",
              "\n",
              "    [theme=dark] .colab-df-convert:hover {\n",
              "      background-color: #434B5C;\n",
              "      box-shadow: 0px 1px 3px 1px rgba(0, 0, 0, 0.15);\n",
              "      filter: drop-shadow(0px 1px 2px rgba(0, 0, 0, 0.3));\n",
              "      fill: #FFFFFF;\n",
              "    }\n",
              "  </style>\n",
              "\n",
              "    <script>\n",
              "      const buttonEl =\n",
              "        document.querySelector('#df-e67bc55e-7d21-4795-9ad4-bc8ff53cc006 button.colab-df-convert');\n",
              "      buttonEl.style.display =\n",
              "        google.colab.kernel.accessAllowed ? 'block' : 'none';\n",
              "\n",
              "      async function convertToInteractive(key) {\n",
              "        const element = document.querySelector('#df-e67bc55e-7d21-4795-9ad4-bc8ff53cc006');\n",
              "        const dataTable =\n",
              "          await google.colab.kernel.invokeFunction('convertToInteractive',\n",
              "                                                    [key], {});\n",
              "        if (!dataTable) return;\n",
              "\n",
              "        const docLinkHtml = 'Like what you see? Visit the ' +\n",
              "          '<a target=\"_blank\" href=https://colab.research.google.com/notebooks/data_table.ipynb>data table notebook</a>'\n",
              "          + ' to learn more about interactive tables.';\n",
              "        element.innerHTML = '';\n",
              "        dataTable['output_type'] = 'display_data';\n",
              "        await google.colab.output.renderOutput(dataTable, element);\n",
              "        const docLink = document.createElement('div');\n",
              "        docLink.innerHTML = docLinkHtml;\n",
              "        element.appendChild(docLink);\n",
              "      }\n",
              "    </script>\n",
              "  </div>\n",
              "\n",
              "\n",
              "<div id=\"df-f1da8281-01a0-4162-bb57-e6dc73084cc7\">\n",
              "  <button class=\"colab-df-quickchart\" onclick=\"quickchart('df-f1da8281-01a0-4162-bb57-e6dc73084cc7')\"\n",
              "            title=\"Suggest charts\"\n",
              "            style=\"display:none;\">\n",
              "\n",
              "<svg xmlns=\"http://www.w3.org/2000/svg\" height=\"24px\"viewBox=\"0 0 24 24\"\n",
              "     width=\"24px\">\n",
              "    <g>\n",
              "        <path d=\"M19 3H5c-1.1 0-2 .9-2 2v14c0 1.1.9 2 2 2h14c1.1 0 2-.9 2-2V5c0-1.1-.9-2-2-2zM9 17H7v-7h2v7zm4 0h-2V7h2v10zm4 0h-2v-4h2v4z\"/>\n",
              "    </g>\n",
              "</svg>\n",
              "  </button>\n",
              "\n",
              "<style>\n",
              "  .colab-df-quickchart {\n",
              "      --bg-color: #E8F0FE;\n",
              "      --fill-color: #1967D2;\n",
              "      --hover-bg-color: #E2EBFA;\n",
              "      --hover-fill-color: #174EA6;\n",
              "      --disabled-fill-color: #AAA;\n",
              "      --disabled-bg-color: #DDD;\n",
              "  }\n",
              "\n",
              "  [theme=dark] .colab-df-quickchart {\n",
              "      --bg-color: #3B4455;\n",
              "      --fill-color: #D2E3FC;\n",
              "      --hover-bg-color: #434B5C;\n",
              "      --hover-fill-color: #FFFFFF;\n",
              "      --disabled-bg-color: #3B4455;\n",
              "      --disabled-fill-color: #666;\n",
              "  }\n",
              "\n",
              "  .colab-df-quickchart {\n",
              "    background-color: var(--bg-color);\n",
              "    border: none;\n",
              "    border-radius: 50%;\n",
              "    cursor: pointer;\n",
              "    display: none;\n",
              "    fill: var(--fill-color);\n",
              "    height: 32px;\n",
              "    padding: 0;\n",
              "    width: 32px;\n",
              "  }\n",
              "\n",
              "  .colab-df-quickchart:hover {\n",
              "    background-color: var(--hover-bg-color);\n",
              "    box-shadow: 0 1px 2px rgba(60, 64, 67, 0.3), 0 1px 3px 1px rgba(60, 64, 67, 0.15);\n",
              "    fill: var(--button-hover-fill-color);\n",
              "  }\n",
              "\n",
              "  .colab-df-quickchart-complete:disabled,\n",
              "  .colab-df-quickchart-complete:disabled:hover {\n",
              "    background-color: var(--disabled-bg-color);\n",
              "    fill: var(--disabled-fill-color);\n",
              "    box-shadow: none;\n",
              "  }\n",
              "\n",
              "  .colab-df-spinner {\n",
              "    border: 2px solid var(--fill-color);\n",
              "    border-color: transparent;\n",
              "    border-bottom-color: var(--fill-color);\n",
              "    animation:\n",
              "      spin 1s steps(1) infinite;\n",
              "  }\n",
              "\n",
              "  @keyframes spin {\n",
              "    0% {\n",
              "      border-color: transparent;\n",
              "      border-bottom-color: var(--fill-color);\n",
              "      border-left-color: var(--fill-color);\n",
              "    }\n",
              "    20% {\n",
              "      border-color: transparent;\n",
              "      border-left-color: var(--fill-color);\n",
              "      border-top-color: var(--fill-color);\n",
              "    }\n",
              "    30% {\n",
              "      border-color: transparent;\n",
              "      border-left-color: var(--fill-color);\n",
              "      border-top-color: var(--fill-color);\n",
              "      border-right-color: var(--fill-color);\n",
              "    }\n",
              "    40% {\n",
              "      border-color: transparent;\n",
              "      border-right-color: var(--fill-color);\n",
              "      border-top-color: var(--fill-color);\n",
              "    }\n",
              "    60% {\n",
              "      border-color: transparent;\n",
              "      border-right-color: var(--fill-color);\n",
              "    }\n",
              "    80% {\n",
              "      border-color: transparent;\n",
              "      border-right-color: var(--fill-color);\n",
              "      border-bottom-color: var(--fill-color);\n",
              "    }\n",
              "    90% {\n",
              "      border-color: transparent;\n",
              "      border-bottom-color: var(--fill-color);\n",
              "    }\n",
              "  }\n",
              "</style>\n",
              "\n",
              "  <script>\n",
              "    async function quickchart(key) {\n",
              "      const quickchartButtonEl =\n",
              "        document.querySelector('#' + key + ' button');\n",
              "      quickchartButtonEl.disabled = true;  // To prevent multiple clicks.\n",
              "      quickchartButtonEl.classList.add('colab-df-spinner');\n",
              "      try {\n",
              "        const charts = await google.colab.kernel.invokeFunction(\n",
              "            'suggestCharts', [key], {});\n",
              "      } catch (error) {\n",
              "        console.error('Error during call to suggestCharts:', error);\n",
              "      }\n",
              "      quickchartButtonEl.classList.remove('colab-df-spinner');\n",
              "      quickchartButtonEl.classList.add('colab-df-quickchart-complete');\n",
              "    }\n",
              "    (() => {\n",
              "      let quickchartButtonEl =\n",
              "        document.querySelector('#df-f1da8281-01a0-4162-bb57-e6dc73084cc7 button');\n",
              "      quickchartButtonEl.style.display =\n",
              "        google.colab.kernel.accessAllowed ? 'block' : 'none';\n",
              "    })();\n",
              "  </script>\n",
              "</div>\n",
              "    </div>\n",
              "  </div>\n"
            ]
          },
          "metadata": {},
          "execution_count": 13
        }
      ]
    },
    {
      "cell_type": "markdown",
      "source": [
        "## 1 Data preparation"
      ],
      "metadata": {
        "id": "QS3wzfS6eMo2"
      }
    },
    {
      "cell_type": "markdown",
      "source": [
        "Follow several preparation steps:\n",
        "\n",
        "1. Drop columns that we will not use for prediction: last name, first name and index.\n",
        "2. Have a look at the correlation plot. If you see that some features are too correlated - drop some of them\n",
        "3. Fill mising features with mean taret encoding\n",
        "4. Convert categorical variables `Best Hand` and `Hogwart House` to numerical.\n",
        "5. Create from `Birthday` new fearures `day`, `month`, `year`\n",
        "6. Standardize features\n",
        "7. Separate data into test and train sets (leave 33% of data in test set)\n"
      ],
      "metadata": {
        "id": "a5tSzltofoaV"
      }
    },
    {
      "cell_type": "code",
      "source": [
        "# YOUR CODE HERE\n"
      ],
      "metadata": {
        "id": "uixLrGhjuACh"
      },
      "execution_count": null,
      "outputs": []
    },
    {
      "cell_type": "markdown",
      "source": [
        "## 2. Multiclass logit model with regularization\n"
      ],
      "metadata": {
        "id": "Wg4A3zLH3VaR"
      }
    },
    {
      "cell_type": "markdown",
      "source": [
        "Estimate multiclass logit model:\n",
        "\n",
        "1. Use sklearn realization of logistic regression in [SGDC classifier](https://scikit-learn.org/stable/modules/generated/sklearn.linear_model.SGDClassifier.html)\n",
        "\n",
        "\n",
        "2. Use cross-validation to choose type of regularization (penalty equal to `l1`, `l2`, or `elastic net`) and regularization weight (`alpha` in  `range(start=0.1, 1, step=0.1)`)\n"
      ],
      "metadata": {
        "id": "1iA1U9tNBjCe"
      }
    },
    {
      "cell_type": "code",
      "source": [
        "# YOUR CODE HERE"
      ],
      "metadata": {
        "id": "UVQRY0wJ-6dm"
      },
      "execution_count": null,
      "outputs": []
    },
    {
      "cell_type": "markdown",
      "source": [
        "## 3. Calculate average marginal effects\n",
        "\n",
        "\n"
      ],
      "metadata": {
        "id": "-OL-c93Z-9Nz"
      }
    },
    {
      "cell_type": "markdown",
      "source": [
        "For each of the variables calculate average marginal effect on the probability."
      ],
      "metadata": {
        "id": "kwySpvMpM8JH"
      }
    },
    {
      "cell_type": "code",
      "source": [
        "# YOUR CODE HERE"
      ],
      "metadata": {
        "id": "xHPnL6NNKBYJ"
      },
      "execution_count": null,
      "outputs": []
    },
    {
      "cell_type": "markdown",
      "source": [
        "## 4. Build logit with PCA transformation"
      ],
      "metadata": {
        "id": "ssl8BGkmMi4q"
      }
    },
    {
      "cell_type": "markdown",
      "source": [
        "\n",
        "Extract 5 principal components and evaluate logit model using them as explanatory variables"
      ],
      "metadata": {
        "id": "p1TM1QmeMyvz"
      }
    },
    {
      "cell_type": "code",
      "source": [
        "# YOUR CODE HERE"
      ],
      "metadata": {
        "id": "mDgslv8GM5ZU"
      },
      "execution_count": null,
      "outputs": []
    },
    {
      "cell_type": "markdown",
      "source": [
        "## 5. Build classification forest\n"
      ],
      "metadata": {
        "id": "lwGflYf2N-2p"
      }
    },
    {
      "cell_type": "markdown",
      "source": [
        "You are free to add PCA-transformed explanatory variables as predictors. Tune parameters by cross-validation on the grid of your choice"
      ],
      "metadata": {
        "id": "3B-NJS3RRD-X"
      }
    },
    {
      "cell_type": "code",
      "source": [
        "# YOUR CODE HERE"
      ],
      "metadata": {
        "id": "dQ1lbmIKRCR5"
      },
      "execution_count": null,
      "outputs": []
    },
    {
      "cell_type": "markdown",
      "source": [
        "## 6. Model Race: evaluate models (Logit, Logit + PCA, Classification forest) on the test dataset and choose the best one"
      ],
      "metadata": {
        "id": "8QbzL4viRkye"
      }
    },
    {
      "cell_type": "code",
      "source": [
        "# YOUR CODE HERE"
      ],
      "metadata": {
        "id": "w4lXcPWNRqn2"
      },
      "execution_count": null,
      "outputs": []
    },
    {
      "cell_type": "markdown",
      "source": [
        "   \n",
        "\n",
        "\n",
        "\n",
        "---"
      ],
      "metadata": {
        "id": "XL-b0dyFVpyN"
      }
    },
    {
      "cell_type": "markdown",
      "source": [
        "![Alt Text](https://gifdb.com/images/high/gryffindor-sorting-hat-owbd80ftf54oai7i.webp)\n",
        "\n",
        "\n"
      ],
      "metadata": {
        "id": "klSEvvXPTH6S"
      }
    }
  ]
}