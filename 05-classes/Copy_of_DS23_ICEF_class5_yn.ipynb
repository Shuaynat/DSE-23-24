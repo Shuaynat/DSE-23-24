{
  "nbformat": 4,
  "nbformat_minor": 0,
  "metadata": {
    "colab": {
      "provenance": [],
      "include_colab_link": true
    },
    "kernelspec": {
      "name": "python3",
      "display_name": "Python 3"
    },
    "language_info": {
      "name": "python"
    }
  },
  "cells": [
    {
      "cell_type": "markdown",
      "metadata": {
        "id": "view-in-github",
        "colab_type": "text"
      },
      "source": [
        "<a href=\"https://colab.research.google.com/github/Shuaynat/DSE-23-24/blob/main/05-classes/Copy_of_DS23_ICEF_class5_yn.ipynb\" target=\"_parent\"><img src=\"https://colab.research.google.com/assets/colab-badge.svg\" alt=\"Open In Colab\"/></a>"
      ]
    },
    {
      "cell_type": "markdown",
      "source": [
        "# Data Science in Economics\n",
        "\n",
        "### Class -5 Gradient boosting\n",
        "\n",
        "05/10/23\n",
        "\n",
        "\n",
        "<fieldset>\n",
        "  <legend><font color=\"#282FA4 \"><b>Class plan</b></font></legend>\n",
        "\n",
        "Part 1: Theory behing GB\n",
        "<div>\n",
        "    <input type=\"checkbox\" id=\"point1\" name=\"point1\"/>\n",
        "    <label for=\"scales\"> //Theory behing GB </label>\n",
        "  </div>\n",
        "\n",
        "\n",
        "Part 2: models - three ML atlants\n",
        "<div>\n",
        "    <input type=\"checkbox\" id=\"point1\" name=\"point1\"/>\n",
        "    <label for=\"scales\"> Comparison: CatBoost, XGBoost, LightGMB</label>\n",
        "  </div>\n",
        "\n",
        "\n",
        "\n",
        "\n",
        "\n",
        "\n",
        "</fieldset>"
      ],
      "metadata": {
        "id": "aNPjtdICn8cq"
      }
    },
    {
      "cell_type": "markdown",
      "source": [
        "# Part 1: Theory behind GB"
      ],
      "metadata": {
        "id": "78Pd5aW43eNu"
      }
    },
    {
      "cell_type": "markdown",
      "source": [
        "#### **GB general idea**"
      ],
      "metadata": {
        "id": "mphbN3G2jGd-"
      }
    },
    {
      "cell_type": "markdown",
      "source": [
        "\n",
        "Бустинг последовательно обучает набор базовых моделей таким образом, что каждая следующая модель пытается исправить ошибки работы предыдущей модели.\n",
        "\n",
        "Логика того, как учитываются ошибки предыдущей модели может быть разной.\n",
        "\n",
        "В алгоритме градиентного бустинга каждая следующая модель обучается на \"невязках\" предыдущей модели, минимизируя итоговую функцию потерь.\n",
        "\n",
        "У каждого следующего алгоритма вычисляется вес $\\alpha$, с которым он входит в ансамбль. Также есть параметр скорости обучения (learning rate), который не позволяет алгоритму переобучитсья. Вес $\\alpha$ можно находить, используя одномерную оптимизацию.\n",
        "\n",
        "Можно записать процедуру обучения по шагам (будем рассматривать случай бинарной классификации c метками классов {0,1}, чтобы не усложнять жизнь):\n",
        "1. Настройка базового алгоритма $b_0$.\n",
        "    \n",
        "    Алгоритм настраиваются на $y$ с помощью функции MSE.\n",
        "    \n",
        "    \n",
        "2. Будем обозначать текущий небазовый алгоритм - $a$:\n",
        "    \n",
        "    $$a_i(x) = \\sum_{j=0}^i \\alpha_j b_j(x) $$\n",
        "    \n",
        "3. Настройка базового алгоритма $b_i$ (обычно это регрессионное дерево):\n",
        "    \n",
        "    $$b_i = \\arg \\min_b \\sum_{j=1}^l (b(x_j) + \\nabla L(a_{i-1}(x_j), y))^2,$$\n",
        "    т.е. выход очередного базового алгоритма подстраивается под антиградиент функции потерь\n",
        "    \n",
        "4. Настройка веса базового алгоритма $\\alpha_i$:\n",
        "    \n",
        "    $$\\alpha_i = \\min_{\\alpha > 0} \\sum_{j=1}^l L(a_{i-1} + \\alpha b_i(x_j), y) $$\n",
        "    \n",
        "В случае классфикации будем использовать логистическую функцию потерь. Немного упростим ее:\n",
        "\n",
        "$$L = -y\\log\\sigma(a) - (1-y)\\log(1 - \\sigma(a)) = -\\log(1 - \\sigma(a)) - y \\log \\frac{\\sigma(a)}{1 - \\sigma(a)},$$\n",
        "где $\\sigma$ - функция сигмоиды. Ответ после очередного базового алгоритма надо прогонять через сигмоиду, т.к. не гарантируется, что ответы будут лежать на [0,1] - в этом особенность базового алгоритма (который является регрессионным).\n",
        "\n",
        "Преобразуем:\n",
        "$$\\log (1 - \\sigma(a)) = \\log \\frac{1}{1 + \\exp(a)} = -\\log(1 + \\exp(a)) $$\n",
        "\n",
        "$$\\log (\\frac{\\sigma(a)}{1 - \\sigma(a)}) = \\log(\\exp(a)) = a $$\n",
        "\n",
        "Таким образом:\n",
        "\n",
        "$$L = -ya + \\log(1 + \\exp(a))$$\n",
        "\n",
        "Тогда будем вычислять градиент как:\n",
        "\n",
        "$$\\nabla L = - y + \\sigma(a)$$\n"
      ],
      "metadata": {
        "id": "KfgFZvqhjPk9"
      }
    },
    {
      "cell_type": "markdown",
      "source": [
        "🔗 [More info: Alexander Diakonov notes](https://alexanderdyakonov.files.wordpress.com/2017/06/book_boosting_pdf.pdf)"
      ],
      "metadata": {
        "id": "X6yGYwt14ZqM"
      }
    },
    {
      "cell_type": "markdown",
      "source": [
        "#### **GB for random trees**\n",
        "\n"
      ],
      "metadata": {
        "id": "usfIxLE-3jed"
      }
    },
    {
      "cell_type": "markdown",
      "source": [
        "**Problem statement**\n",
        "\n",
        "The solution is found in the form of sum over random trees $h_m(x)$,\n",
        "$$F(x) = \\sum_{m=1}^{M} h_m(x).$$\n",
        "\n",
        "The additive model is built in a greedy fashion:\n",
        "$$f_m(x) = f_{m-1}(x) + h_m(x).$$\n",
        "\n",
        "Having loss function $L(y, f)$, we find every new tree from the optimization\n",
        "$$h_m =  \\arg\\min_{h} \\sum_{i=1}^{n} L(y_i, f_{m-1}(x_i) + h(x_i)).$$\n",
        "\n",
        "**Problem solution**\n",
        "\n",
        "Linear approximation of loss function $L(y, f)$ and the gradient descent method:\n",
        "\n",
        "$$\\gamma_m = \\arg\\min_{\\gamma} \\sum_{i=1}^{n} L(y_i, f_{m-1}(x_i)\n",
        "- \\gamma \\frac{\\partial L(y_i, f_{m-1}(x_i))}{\\partial f_{m-1}(x_i)}).$$\n",
        "\n",
        "A random tree $h(x)$ is fit to targets that are the gradients $\\quad -\\frac{\\partial L(y_i, f_{m-1}(x_i))}{\\partial f_{m-1}(x_i)}.$\n",
        "\n",
        "A new tree is added to the approximation with optimal $\\gamma_m$ and additional shrinkage $\\nu$:\n",
        "\n",
        "$$f_m(x) = f_{m-1}(x) + \\nu \\gamma_m h_m(x).$$\n",
        "\n",
        "The initial model $f_0(x)$ is problem specific, for least-squares regression one usually chooses the mean of the target values.\n",
        "\n",
        "\n",
        "🔗 [Source](https://github.com/adasegroup/ML2020_seminars/blob/master/seminar8/seminar_GB_solutions.ipynb)"
      ],
      "metadata": {
        "id": "9INqpMPJ4A_y"
      }
    },
    {
      "cell_type": "markdown",
      "source": [
        "**Problem 1:L-2 boosting**\n",
        "\n",
        "\n",
        "1. **Show that for squared loss function each tree in Gradient Boosting is fit to the targets that are simply the differences $y_i-f_{m-1}(x_i)$ between the values $y_i$ and the current approximation $f_{m-1}(x_i)$ found on the previous step $m-1$**\n",
        "\n",
        "\n",
        "<details>\n",
        "  <summary> <font color=\"#282FA4 \"><b>Solution idea</b></font> </summary>\n",
        "\n",
        "\n",
        "\n",
        "> In case of Gradient Boosting for regression with the squared error loss\n",
        "\n",
        "\n",
        "\n",
        "\n",
        "> $$L(y_i, f(x_i)) = \\frac{1}{2}[y_i-f(x_i)]^2.$$\n",
        "\n",
        "\n",
        "> The gradients\n",
        "> $$ r_{im} = - \\left[\\frac{\\partial L(y_i, f(x_i))}{\\partial f(x_i)}\\right]_{f=f_{m-1}}$$\n",
        "are calculated for each data point $(x_i, y_i)$ on every step $m$. Then a regression tree is fit to the targets $r_{im}$. For the squared error loss the negative gradient is exactly the difference between the\n",
        "> $$r_{im} = y_i-f_{m-1}(x_i).$$\n",
        "\n",
        "</details>\n",
        "\n",
        "2. **What is the value of shrinkage parameter gamma in this case? **\n",
        "\n",
        "\n",
        "<details>\n",
        "  <summary> <font color=\"#282FA4 \"><b>Solution idea</b></font> </summary>\n",
        "\n",
        ">For the squared error loss $L(y_i, f(x_i)) = \\frac{1}{2}[y_i-f(x_i)]^2$ we have\n",
        "$$ L\\left(y_i, f_{m-1}(x_i) - \\gamma \\nabla_F L(y_i, f_{m-1}(x_i))\\right) =\n",
        " \\frac{1}{2} (1 - \\gamma)^2 (y_i - f_{m-1}(x_i))^2,\n",
        "$$\n",
        "and thus $\\gamma_m=1$ or in other words we can skip the steepest descent in this case.\n",
        "\n",
        "</details>\n",
        "\n",
        "\n",
        "3. **Code gradient boosting for regression tree with squared loss by hands**\n",
        "\n",
        "\n",
        "\n"
      ],
      "metadata": {
        "id": "_YCggV_t7Hzl"
      }
    },
    {
      "cell_type": "code",
      "source": [
        "import numpy as np\n",
        "import pandas as pd\n",
        "import matplotlib.pyplot as plt\n",
        "%matplotlib inline\n",
        "\n",
        "from sklearn.ensemble import GradientBoostingRegressor\n",
        "from sklearn.tree import DecisionTreeRegressor"
      ],
      "metadata": {
        "id": "JobDauyl7Ha8"
      },
      "execution_count": null,
      "outputs": []
    },
    {
      "cell_type": "code",
      "source": [
        "# generate synthetic dataset\n",
        "\n",
        "num_samples = 80\n",
        "dimension = 2\n",
        "\n",
        "np.random.seed(42)\n",
        "\n",
        "\n",
        "X_data = np.random.normal(size = (num_samples, dimension))\n",
        "\n",
        "y_data = X_data[:,1]**2 + X_data[:,0]**2\n",
        "\n",
        "plt.scatter(X_data[:, 0], X_data[:, 1],c=y_data, s = 100,cmap = \"autumn\")"
      ],
      "metadata": {
        "colab": {
          "base_uri": "https://localhost:8080/",
          "height": 448
        },
        "id": "56joGewxu5ZO",
        "outputId": "539edef2-437a-4a2c-852c-2d19a47a58a1"
      },
      "execution_count": null,
      "outputs": [
        {
          "output_type": "execute_result",
          "data": {
            "text/plain": [
              "<matplotlib.collections.PathCollection at 0x7d5706784b80>"
            ]
          },
          "metadata": {},
          "execution_count": 74
        },
        {
          "output_type": "display_data",
          "data": {
            "text/plain": [
              "<Figure size 640x480 with 1 Axes>"
            ],
            "image/png": "[encoded data removed]"
          },
          "metadata": {}
        }
      ]
    },
    {
      "cell_type": "code",
      "source": [
        "# My simple gradient boosting\n",
        "\n",
        "max_depth = 1\n",
        "n_estimators = 10\n",
        "\n",
        "\n",
        "f = np.mean(y_data)                      # initialization\n",
        "for m in range(1, n_estimators+1):\n",
        "    clf = DecisionTreeRegressor(max_depth=max_depth)\n",
        "    nu = 1\n",
        "    #\n",
        "    f = f + clf.fit(X_data, y_data - f).predict(X_data) * nu # fit to the difference and shrink\n",
        "\n",
        "plt.plot(X_data[:,0], y_data, '*b')\n",
        "plt.plot(X_data[:,0],f, '.r')\n",
        "plt.title('My simple gradient boosting')\n",
        "plt.xlabel('x1')\n",
        "plt.ylabel('y')\n",
        "plt.show()\n"
      ],
      "metadata": {
        "colab": {
          "base_uri": "https://localhost:8080/",
          "height": 472
        },
        "id": "4wLEIpH3xeZE",
        "outputId": "e428ac1d-2c68-4263-fd48-7f661d4a861f"
      },
      "execution_count": null,
      "outputs": [
        {
          "output_type": "display_data",
          "data": {
            "text/plain": [
              "<Figure size 640x480 with 1 Axes>"
            ],
            "image/png": "[encoded data removed]"
          },
          "metadata": {}
        }
      ]
    },
    {
      "cell_type": "markdown",
      "source": [
        "Compare with Bagging algorithm"
      ],
      "metadata": {
        "id": "v3yrAt23RrA9"
      }
    },
    {
      "cell_type": "code",
      "source": [
        "from sklearn.tree import DecisionTreeRegressor\n",
        "import numpy as np\n",
        "list_of_algos = []\n",
        "sub_sample_size = int(0.9*len(X_data))\n",
        "X_data =pd.DataFrame(X_data)\n",
        "y_data = pd.DataFrame(y_data)\n",
        "#fit model\n",
        "for i in range(100):\n",
        "  clf = DecisionTreeRegressor(max_depth=1 ,max_features=5)\n",
        "  #choose random indices\n",
        "  indices = np.random.choice(a= X_data.index, size = sub_sample_size, replace = True)\n",
        "  clf.fit(X_data.loc[indices,:],y_data.loc[indices])\n",
        "  list_of_algos.append(clf)\n",
        "\n",
        "#predict\n",
        "Predict_bagging = list_of_algos[0].predict(X_data)\n",
        "for i in range(1, len(list_of_algos)):\n",
        "  Predict_bagging = (Predict_bagging+list_of_algos[i].predict(X_data)/i)*(i/(i+1))\n",
        "print(Predict_bagging)\n",
        "X_data = X_data.to_numpy()\n",
        "plt.plot(X_data[:,0], y_data, '*b')\n",
        "plt.plot(X_data[:,0],Predict_bagging, '.r')\n",
        "plt.title('My simple bagging')\n",
        "plt.xlabel('x1')\n",
        "plt.ylabel('y')\n",
        "plt.show()\n"
      ],
      "metadata": {
        "colab": {
          "base_uri": "https://localhost:8080/",
          "height": 721
        },
        "id": "aN8Ah9BDa1UW",
        "outputId": "9b56779d-1ba5-428d-a541-3f910fcf3b4c"
      },
      "execution_count": null,
      "outputs": [
        {
          "output_type": "stream",
          "name": "stdout",
          "text": [
            "[1.5713362  1.77089865 1.55215802 1.60331763 1.56636181 1.55215802\n",
            " 1.75827991 1.72125646 1.56739905 1.77352095 1.58911384 1.75827991\n",
            " 1.55215802 1.58124409 1.55215802 2.39708531 1.64417806 1.73328293\n",
            " 1.75827991 1.60283644 1.58911384 1.55215802 1.670867   1.6141316\n",
            " 1.75827991 1.55215802 1.56636181 1.65108742 1.55215802 1.6141316\n",
            " 1.55215802 1.72541317 1.67337065 1.6141316  1.56573017 1.76143563\n",
            " 1.81080418 4.0645093  1.55215802 1.75827991 1.55215802 1.60268599\n",
            " 1.56573017 1.58911384 1.56636181 1.6141316  1.55215802 1.75827991\n",
            " 1.55215802 1.55215802 1.60283644 1.59621944 1.55215802 1.58911384\n",
            " 1.55215802 1.70768431 2.89104129 1.55215802 1.66380936 1.60331763\n",
            " 1.63317526 1.79523574 2.92799711 1.58097121 1.56573017 1.62680559\n",
            " 1.58160284 1.82604521 1.55215802 1.73328293 1.6141316  1.65485579\n",
            " 1.56636181 1.80895833 1.5713362  1.55215802 1.55215802 1.56573017\n",
            " 1.60331763 1.59544788]\n"
          ]
        },
        {
          "output_type": "display_data",
          "data": {
            "text/plain": [
              "<Figure size 640x480 with 1 Axes>"
            ],
            "image/png": "[encoded data removed]"
          },
          "metadata": {}
        }
      ]
    },
    {
      "cell_type": "markdown",
      "source": [
        "# Part 2: models"
      ],
      "metadata": {
        "id": "8OYmLNbl7A2_"
      }
    },
    {
      "cell_type": "markdown",
      "source": [
        "Let's consider out apps dataset and try to solve 2 cases with data:\n",
        "\n",
        "**Case 1: Pricing new App**\n",
        "\n",
        "Imagine you want to launch new app and you need to decide how much to charge for the app. You have conducted the survey - showed the app prototype to the public, and collected the reviews. **So you need to learn how to infer optimal price from the review infromation.**\n",
        "\n",
        "\n",
        "\n",
        "**Case 2: Predicting rating of the App**\n",
        "\n",
        "?? Busines sense ??\n",
        "\n"
      ],
      "metadata": {
        "id": "PfyndKv6L5Hl"
      }
    },
    {
      "cell_type": "code",
      "source": [
        "import pandas as pd\n",
        "\n",
        "apps = pd.read_csv('https://raw.githubusercontent.com/Shuaynat/DSE-23-24/main/02-classes/googleplaystore.csv')\n",
        "reviews = pd.read_csv('https://raw.githubusercontent.com/Shuaynat/DSE-23-24/main/02-classes/googleplaystore_user_reviews.csv')\n",
        "\n",
        "merged_data = reviews.merge(apps, on=\"App\", how=\"inner\")\n",
        "merged_data.head(2)\n"
      ],
      "metadata": {
        "colab": {
          "base_uri": "https://localhost:8080/",
          "height": 199
        },
        "id": "mAVG79il-u9n",
        "outputId": "be7382c7-43d2-4575-e76e-e785bee4a43a"
      },
      "execution_count": null,
      "outputs": [
        {
          "output_type": "execute_result",
          "data": {
            "text/plain": [
              "                     App                                  Translated_Review  \\\n",
              "0  10 Best Foods for You  I like eat delicious food. That's I'm cooking ...   \n",
              "1  10 Best Foods for You  I like eat delicious food. That's I'm cooking ...   \n",
              "\n",
              "  Sentiment  Sentiment_Polarity  Sentiment_Subjectivity            Category  \\\n",
              "0  Positive                 1.0                0.533333  HEALTH_AND_FITNESS   \n",
              "1  Positive                 1.0                0.533333  HEALTH_AND_FITNESS   \n",
              "\n",
              "   Rating Reviews  Size  Installs  Type Price Content Rating  \\\n",
              "0     4.0    2490  3.8M  500,000+  Free     0   Everyone 10+   \n",
              "1     4.0    2490  3.8M  500,000+  Free     0   Everyone 10+   \n",
              "\n",
              "             Genres       Last Updated Current Ver   Android Ver  \n",
              "0  Health & Fitness  February 17, 2017         1.9  2.3.3 and up  \n",
              "1  Health & Fitness  February 17, 2017         1.9  2.3.3 and up  "
            ],
            "text/html": [
              "\n",
              "  <div id=\"df-60dfc291-31a3-4d38-80bd-488127cf14aa\" class=\"colab-df-container\">\n",
              "    <div>\n",
              "<style scoped>\n",
              "    .dataframe tbody tr th:only-of-type {\n",
              "        vertical-align: middle;\n",
              "    }\n",
              "\n",
              "    .dataframe tbody tr th {\n",
              "        vertical-align: top;\n",
              "    }\n",
              "\n",
              "    .dataframe thead th {\n",
              "        text-align: right;\n",
              "    }\n",
              "</style>\n",
              "<table border=\"1\" class=\"dataframe\">\n",
              "  <thead>\n",
              "    <tr style=\"text-align: right;\">\n",
              "      <th></th>\n",
              "      <th>App</th>\n",
              "      <th>Translated_Review</th>\n",
              "      <th>Sentiment</th>\n",
              "      <th>Sentiment_Polarity</th>\n",
              "      <th>Sentiment_Subjectivity</th>\n",
              "      <th>Category</th>\n",
              "      <th>Rating</th>\n",
              "      <th>Reviews</th>\n",
              "      <th>Size</th>\n",
              "      <th>Installs</th>\n",
              "      <th>Type</th>\n",
              "      <th>Price</th>\n",
              "      <th>Content Rating</th>\n",
              "      <th>Genres</th>\n",
              "      <th>Last Updated</th>\n",
              "      <th>Current Ver</th>\n",
              "      <th>Android Ver</th>\n",
              "    </tr>\n",
              "  </thead>\n",
              "  <tbody>\n",
              "    <tr>\n",
              "      <th>0</th>\n",
              "      <td>10 Best Foods for You</td>\n",
              "      <td>I like eat delicious food. That's I'm cooking ...</td>\n",
              "      <td>Positive</td>\n",
              "      <td>1.0</td>\n",
              "      <td>0.533333</td>\n",
              "      <td>HEALTH_AND_FITNESS</td>\n",
              "      <td>4.0</td>\n",
              "      <td>2490</td>\n",
              "      <td>3.8M</td>\n",
              "      <td>500,000+</td>\n",
              "      <td>Free</td>\n",
              "      <td>0</td>\n",
              "      <td>Everyone 10+</td>\n",
              "      <td>Health &amp; Fitness</td>\n",
              "      <td>February 17, 2017</td>\n",
              "      <td>1.9</td>\n",
              "      <td>2.3.3 and up</td>\n",
              "    </tr>\n",
              "    <tr>\n",
              "      <th>1</th>\n",
              "      <td>10 Best Foods for You</td>\n",
              "      <td>I like eat delicious food. That's I'm cooking ...</td>\n",
              "      <td>Positive</td>\n",
              "      <td>1.0</td>\n",
              "      <td>0.533333</td>\n",
              "      <td>HEALTH_AND_FITNESS</td>\n",
              "      <td>4.0</td>\n",
              "      <td>2490</td>\n",
              "      <td>3.8M</td>\n",
              "      <td>500,000+</td>\n",
              "      <td>Free</td>\n",
              "      <td>0</td>\n",
              "      <td>Everyone 10+</td>\n",
              "      <td>Health &amp; Fitness</td>\n",
              "      <td>February 17, 2017</td>\n",
              "      <td>1.9</td>\n",
              "      <td>2.3.3 and up</td>\n",
              "    </tr>\n",
              "  </tbody>\n",
              "</table>\n",
              "</div>\n",
              "    <div class=\"colab-df-buttons\">\n",
              "\n",
              "  <div class=\"colab-df-container\">\n",
              "    <button class=\"colab-df-convert\" onclick=\"convertToInteractive('df-60dfc291-31a3-4d38-80bd-488127cf14aa')\"\n",
              "            title=\"Convert this dataframe to an interactive table.\"\n",
              "            style=\"display:none;\">\n",
              "\n",
              "  <svg xmlns=\"http://www.w3.org/2000/svg\" height=\"24px\" viewBox=\"0 -960 960 960\">\n",
              "    <path d=\"M120-120v-720h720v720H120Zm60-500h600v-160H180v160Zm220 220h160v-160H400v160Zm0 220h160v-160H400v160ZM180-400h160v-160H180v160Zm440 0h160v-160H620v160ZM180-180h160v-160H180v160Zm440 0h160v-160H620v160Z\"/>\n",
              "  </svg>\n",
              "    </button>\n",
              "\n",
              "  <style>\n",
              "    .colab-df-container {\n",
              "      display:flex;\n",
              "      gap: 12px;\n",
              "    }\n",
              "\n",
              "    .colab-df-convert {\n",
              "      background-color: #E8F0FE;\n",
              "      border: none;\n",
              "      border-radius: 50%;\n",
              "      cursor: pointer;\n",
              "      display: none;\n",
              "      fill: #1967D2;\n",
              "      height: 32px;\n",
              "      padding: 0 0 0 0;\n",
              "      width: 32px;\n",
              "    }\n",
              "\n",
              "    .colab-df-convert:hover {\n",
              "      background-color: #E2EBFA;\n",
              "      box-shadow: 0px 1px 2px rgba(60, 64, 67, 0.3), 0px 1px 3px 1px rgba(60, 64, 67, 0.15);\n",
              "      fill: #174EA6;\n",
              "    }\n",
              "\n",
              "    .colab-df-buttons div {\n",
              "      margin-bottom: 4px;\n",
              "    }\n",
              "\n",
              "    [theme=dark] .colab-df-convert {\n",
              "      background-color: #3B4455;\n",
              "      fill: #D2E3FC;\n",
              "    }\n",
              "\n",
              "    [theme=dark] .colab-df-convert:hover {\n",
              "      background-color: #434B5C;\n",
              "      box-shadow: 0px 1px 3px 1px rgba(0, 0, 0, 0.15);\n",
              "      filter: drop-shadow(0px 1px 2px rgba(0, 0, 0, 0.3));\n",
              "      fill: #FFFFFF;\n",
              "    }\n",
              "  </style>\n",
              "\n",
              "    <script>\n",
              "      const buttonEl =\n",
              "        document.querySelector('#df-60dfc291-31a3-4d38-80bd-488127cf14aa button.colab-df-convert');\n",
              "      buttonEl.style.display =\n",
              "        google.colab.kernel.accessAllowed ? 'block' : 'none';\n",
              "\n",
              "      async function convertToInteractive(key) {\n",
              "        const element = document.querySelector('#df-60dfc291-31a3-4d38-80bd-488127cf14aa');\n",
              "        const dataTable =\n",
              "          await google.colab.kernel.invokeFunction('convertToInteractive',\n",
              "                                                    [key], {});\n",
              "        if (!dataTable) return;\n",
              "\n",
              "        const docLinkHtml = 'Like what you see? Visit the ' +\n",
              "          '<a target=\"_blank\" href=https://colab.research.google.com/notebooks/data_table.ipynb>data table notebook</a>'\n",
              "          + ' to learn more about interactive tables.';\n",
              "        element.innerHTML = '';\n",
              "        dataTable['output_type'] = 'display_data';\n",
              "        await google.colab.output.renderOutput(dataTable, element);\n",
              "        const docLink = document.createElement('div');\n",
              "        docLink.innerHTML = docLinkHtml;\n",
              "        element.appendChild(docLink);\n",
              "      }\n",
              "    </script>\n",
              "  </div>\n",
              "\n",
              "\n",
              "<div id=\"df-97d3c6ed-f955-46c2-b5d3-0097c2e6a69a\">\n",
              "  <button class=\"colab-df-quickchart\" onclick=\"quickchart('df-97d3c6ed-f955-46c2-b5d3-0097c2e6a69a')\"\n",
              "            title=\"Suggest charts.\"\n",
              "            style=\"display:none;\">\n",
              "\n",
              "<svg xmlns=\"http://www.w3.org/2000/svg\" height=\"24px\"viewBox=\"0 0 24 24\"\n",
              "     width=\"24px\">\n",
              "    <g>\n",
              "        <path d=\"M19 3H5c-1.1 0-2 .9-2 2v14c0 1.1.9 2 2 2h14c1.1 0 2-.9 2-2V5c0-1.1-.9-2-2-2zM9 17H7v-7h2v7zm4 0h-2V7h2v10zm4 0h-2v-4h2v4z\"/>\n",
              "    </g>\n",
              "</svg>\n",
              "  </button>\n",
              "\n",
              "<style>\n",
              "  .colab-df-quickchart {\n",
              "      --bg-color: #E8F0FE;\n",
              "      --fill-color: #1967D2;\n",
              "      --hover-bg-color: #E2EBFA;\n",
              "      --hover-fill-color: #174EA6;\n",
              "      --disabled-fill-color: #AAA;\n",
              "      --disabled-bg-color: #DDD;\n",
              "  }\n",
              "\n",
              "  [theme=dark] .colab-df-quickchart {\n",
              "      --bg-color: #3B4455;\n",
              "      --fill-color: #D2E3FC;\n",
              "      --hover-bg-color: #434B5C;\n",
              "      --hover-fill-color: #FFFFFF;\n",
              "      --disabled-bg-color: #3B4455;\n",
              "      --disabled-fill-color: #666;\n",
              "  }\n",
              "\n",
              "  .colab-df-quickchart {\n",
              "    background-color: var(--bg-color);\n",
              "    border: none;\n",
              "    border-radius: 50%;\n",
              "    cursor: pointer;\n",
              "    display: none;\n",
              "    fill: var(--fill-color);\n",
              "    height: 32px;\n",
              "    padding: 0;\n",
              "    width: 32px;\n",
              "  }\n",
              "\n",
              "  .colab-df-quickchart:hover {\n",
              "    background-color: var(--hover-bg-color);\n",
              "    box-shadow: 0 1px 2px rgba(60, 64, 67, 0.3), 0 1px 3px 1px rgba(60, 64, 67, 0.15);\n",
              "    fill: var(--button-hover-fill-color);\n",
              "  }\n",
              "\n",
              "  .colab-df-quickchart-complete:disabled,\n",
              "  .colab-df-quickchart-complete:disabled:hover {\n",
              "    background-color: var(--disabled-bg-color);\n",
              "    fill: var(--disabled-fill-color);\n",
              "    box-shadow: none;\n",
              "  }\n",
              "\n",
              "  .colab-df-spinner {\n",
              "    border: 2px solid var(--fill-color);\n",
              "    border-color: transparent;\n",
              "    border-bottom-color: var(--fill-color);\n",
              "    animation:\n",
              "      spin 1s steps(1) infinite;\n",
              "  }\n",
              "\n",
              "  @keyframes spin {\n",
              "    0% {\n",
              "      border-color: transparent;\n",
              "      border-bottom-color: var(--fill-color);\n",
              "      border-left-color: var(--fill-color);\n",
              "    }\n",
              "    20% {\n",
              "      border-color: transparent;\n",
              "      border-left-color: var(--fill-color);\n",
              "      border-top-color: var(--fill-color);\n",
              "    }\n",
              "    30% {\n",
              "      border-color: transparent;\n",
              "      border-left-color: var(--fill-color);\n",
              "      border-top-color: var(--fill-color);\n",
              "      border-right-color: var(--fill-color);\n",
              "    }\n",
              "    40% {\n",
              "      border-color: transparent;\n",
              "      border-right-color: var(--fill-color);\n",
              "      border-top-color: var(--fill-color);\n",
              "    }\n",
              "    60% {\n",
              "      border-color: transparent;\n",
              "      border-right-color: var(--fill-color);\n",
              "    }\n",
              "    80% {\n",
              "      border-color: transparent;\n",
              "      border-right-color: var(--fill-color);\n",
              "      border-bottom-color: var(--fill-color);\n",
              "    }\n",
              "    90% {\n",
              "      border-color: transparent;\n",
              "      border-bottom-color: var(--fill-color);\n",
              "    }\n",
              "  }\n",
              "</style>\n",
              "\n",
              "  <script>\n",
              "    async function quickchart(key) {\n",
              "      const quickchartButtonEl =\n",
              "        document.querySelector('#' + key + ' button');\n",
              "      quickchartButtonEl.disabled = true;  // To prevent multiple clicks.\n",
              "      quickchartButtonEl.classList.add('colab-df-spinner');\n",
              "      try {\n",
              "        const charts = await google.colab.kernel.invokeFunction(\n",
              "            'suggestCharts', [key], {});\n",
              "      } catch (error) {\n",
              "        console.error('Error during call to suggestCharts:', error);\n",
              "      }\n",
              "      quickchartButtonEl.classList.remove('colab-df-spinner');\n",
              "      quickchartButtonEl.classList.add('colab-df-quickchart-complete');\n",
              "    }\n",
              "    (() => {\n",
              "      let quickchartButtonEl =\n",
              "        document.querySelector('#df-97d3c6ed-f955-46c2-b5d3-0097c2e6a69a button');\n",
              "      quickchartButtonEl.style.display =\n",
              "        google.colab.kernel.accessAllowed ? 'block' : 'none';\n",
              "    })();\n",
              "  </script>\n",
              "</div>\n",
              "    </div>\n",
              "  </div>\n"
            ]
          },
          "metadata": {},
          "execution_count": 78
        }
      ]
    },
    {
      "cell_type": "code",
      "source": [
        "merged_data.info()"
      ],
      "metadata": {
        "colab": {
          "base_uri": "https://localhost:8080/"
        },
        "id": "jyrLnnTuC61r",
        "outputId": "2b0d7564-4351-41b0-f1e7-dc79abe497f1"
      },
      "execution_count": null,
      "outputs": [
        {
          "output_type": "stream",
          "name": "stdout",
          "text": [
            "<class 'pandas.core.frame.DataFrame'>\n",
            "Int64Index: 122662 entries, 0 to 122661\n",
            "Data columns (total 17 columns):\n",
            " #   Column                  Non-Null Count   Dtype  \n",
            "---  ------                  --------------   -----  \n",
            " 0   App                     122662 non-null  object \n",
            " 1   Translated_Review       72605 non-null   object \n",
            " 2   Sentiment               72615 non-null   object \n",
            " 3   Sentiment_Polarity      72615 non-null   float64\n",
            " 4   Sentiment_Subjectivity  72615 non-null   float64\n",
            " 5   Category                122662 non-null  object \n",
            " 6   Rating                  122622 non-null  float64\n",
            " 7   Reviews                 122662 non-null  object \n",
            " 8   Size                    122662 non-null  object \n",
            " 9   Installs                122662 non-null  object \n",
            " 10  Type                    122662 non-null  object \n",
            " 11  Price                   122662 non-null  object \n",
            " 12  Content Rating          122662 non-null  object \n",
            " 13  Genres                  122662 non-null  object \n",
            " 14  Last Updated            122662 non-null  object \n",
            " 15  Current Ver             122662 non-null  object \n",
            " 16  Android Ver             122662 non-null  object \n",
            "dtypes: float64(3), object(14)\n",
            "memory usage: 16.8+ MB\n"
          ]
        }
      ]
    },
    {
      "cell_type": "code",
      "source": [
        "merged_data['Price'].str.strip('$').apply(float).unique()"
      ],
      "metadata": {
        "colab": {
          "base_uri": "https://localhost:8080/"
        },
        "id": "Wfj_lDSsdj8-",
        "outputId": "3a7c0a8f-6540-4730-c318-3e2414182f35"
      },
      "execution_count": null,
      "outputs": [
        {
          "output_type": "execute_result",
          "data": {
            "text/plain": [
              "array([ 0.  , 33.99,  7.99,  9.99,  2.49,  3.99,  6.99,  3.95,  2.99,\n",
              "        1.99, 11.99,  4.99, 29.99,  0.99])"
            ]
          },
          "metadata": {},
          "execution_count": 80
        }
      ]
    },
    {
      "cell_type": "code",
      "source": [
        "merged_data  = merged_data.dropna()\n",
        "\n",
        "# Convert price into float\n",
        "merged_data['Price'] =merged_data['Price'].apply(lambda string:float(string.strip('$')))\n",
        "\n",
        "\n",
        "# Drop rows without exact app size\n",
        "merged_data.drop(index = merged_data[merged_data['Size'] == 'Varies with device'].index, axis = 0,inplace = True)\n",
        "\n",
        "# Convert Size to number\n",
        "merged_data['Size'] = merged_data['Size'].apply(lambda x: x.replace(\",\",\".\") )\n",
        "merged_data['Size'] =merged_data['Size'].apply(lambda x: (10**6)*float(x[:-1]) if x[-1] == \"M\"\\\n",
        "                                               else ( (10**3)*float(x[:-1]) if x[-1] == \"k\" else x) )\n",
        "\n",
        "# Convert Installs to number\n",
        "merged_data['Installs'] = merged_data['Installs'].apply(lambda x: float(x[:-1].replace(\",\",\"\")) )\n",
        "\n",
        "cat_columns = ['Sentiment', 'Category', 'Type','Content Rating', 'Genres']\n",
        "merged_data[cat_columns] = merged_data[cat_columns].astype('category')\n",
        "\n",
        "merged_data['Reviews'] = merged_data['Reviews'].astype('float')"
      ],
      "metadata": {
        "id": "vVKEwhNTEHo4",
        "colab": {
          "base_uri": "https://localhost:8080/"
        },
        "outputId": "18a009f4-fd1f-46f6-e760-dc5841173e27"
      },
      "execution_count": null,
      "outputs": [
        {
          "output_type": "stream",
          "name": "stderr",
          "text": [
            "<ipython-input-81-62fe246a9db7>:4: SettingWithCopyWarning: \n",
            "A value is trying to be set on a copy of a slice from a DataFrame.\n",
            "Try using .loc[row_indexer,col_indexer] = value instead\n",
            "\n",
            "See the caveats in the documentation: https://pandas.pydata.org/pandas-docs/stable/user_guide/indexing.html#returning-a-view-versus-a-copy\n",
            "  merged_data['Price'] =merged_data['Price'].apply(lambda string:float(string.strip('$')))\n",
            "<ipython-input-81-62fe246a9db7>:8: SettingWithCopyWarning: \n",
            "A value is trying to be set on a copy of a slice from a DataFrame\n",
            "\n",
            "See the caveats in the documentation: https://pandas.pydata.org/pandas-docs/stable/user_guide/indexing.html#returning-a-view-versus-a-copy\n",
            "  merged_data.drop(index = merged_data[merged_data['Size'] == 'Varies with device'].index, axis = 0,inplace = True)\n",
            "<ipython-input-81-62fe246a9db7>:11: SettingWithCopyWarning: \n",
            "A value is trying to be set on a copy of a slice from a DataFrame.\n",
            "Try using .loc[row_indexer,col_indexer] = value instead\n",
            "\n",
            "See the caveats in the documentation: https://pandas.pydata.org/pandas-docs/stable/user_guide/indexing.html#returning-a-view-versus-a-copy\n",
            "  merged_data['Size'] = merged_data['Size'].apply(lambda x: x.replace(\",\",\".\") )\n",
            "<ipython-input-81-62fe246a9db7>:12: SettingWithCopyWarning: \n",
            "A value is trying to be set on a copy of a slice from a DataFrame.\n",
            "Try using .loc[row_indexer,col_indexer] = value instead\n",
            "\n",
            "See the caveats in the documentation: https://pandas.pydata.org/pandas-docs/stable/user_guide/indexing.html#returning-a-view-versus-a-copy\n",
            "  merged_data['Size'] =merged_data['Size'].apply(lambda x: (10**6)*float(x[:-1]) if x[-1] == \"M\"\\\n",
            "<ipython-input-81-62fe246a9db7>:16: SettingWithCopyWarning: \n",
            "A value is trying to be set on a copy of a slice from a DataFrame.\n",
            "Try using .loc[row_indexer,col_indexer] = value instead\n",
            "\n",
            "See the caveats in the documentation: https://pandas.pydata.org/pandas-docs/stable/user_guide/indexing.html#returning-a-view-versus-a-copy\n",
            "  merged_data['Installs'] = merged_data['Installs'].apply(lambda x: float(x[:-1].replace(\",\",\"\")) )\n"
          ]
        }
      ]
    },
    {
      "cell_type": "code",
      "source": [
        "# Split data into train and test\n",
        "from sklearn.model_selection import train_test_split\n",
        "\n",
        "y_data = merged_data[\"Price\"]\n",
        "X_data = merged_data.drop(['Price', 'Translated_Review', 'Last Updated', 'Current Ver', 'Android Ver', 'App'], axis=1)\n",
        "\n",
        "X_train, X_test, y_train, y_test = train_test_split(X_data, y_data, test_size=0.33, random_state=42)"
      ],
      "metadata": {
        "id": "GhrXqXPHLx97"
      },
      "execution_count": null,
      "outputs": []
    },
    {
      "cell_type": "markdown",
      "source": [
        "#### **XGBoost**"
      ],
      "metadata": {
        "id": "_s_WnAxO219D"
      }
    },
    {
      "cell_type": "markdown",
      "source": [
        "**General Parameters**\n",
        "\n",
        "<details>\n",
        "  <summary> <font color=\"#282FA4 \"><b>Details</b></font> </summary>\n",
        "\n",
        "\n",
        "\n",
        "`Booster (default=gbtree):` Type of model to run at each iteration (gbtree= tree-based, gblinear=linear model)\n",
        "\n",
        "`silent (defualt=0):` Set to True to aviod printing updates with each cycle\n",
        "\n",
        "`nthread (default= max available):` Number of threads for parallel processing.\n",
        "</details>\n",
        "\n",
        "\n",
        "**Tree Booster Parameters**\n",
        "\n",
        "<details>\n",
        "  <summary> <font color=\"#282FA4 \"><b>Details</b></font> </summary>\n",
        "\n",
        "`eta (default=0.3):` Aliased as learning rate, typical values- 0.01-0.3\n",
        "\n",
        "`min_child_weight (default=1): `Defines the minimum sum of the weights of all observations required in child. Used to control overfitting, high values can lead to underfitting.\n",
        "\n",
        "`max_depth (default=6):` Higher depth allows learned relations very specific to a particular sample. Typical values are 3-10.\n",
        "\n",
        "`gamma (default=0): `Minimum loss reduction required to partition on a leaf node of a tree- the larger gamma the more conservative the algorithm.\n",
        "\n",
        "`max_delta_step (default=0):` Maximum delta step we allow each leaf output to be. This is generally not used but might help in logistic regression when the class is extremely imbalanced.\n",
        "\n",
        "`subsample (default=1):` Subsample ratio of the training instances, if 0.5 XGBoost would randomly sample half of the training data prior to growing trees, and this will prevent overfitting.\n",
        "\n",
        "`colsample_bytree (default=1):` Denotes the fraction of features to use.\n",
        "\n",
        "`colsample_bylevel (defualt=1):` Denotes the fraction of features but in terms of the level rather than tree.\n",
        "\n",
        "`lambda (default=1): `L2 regularization parameter.\n",
        "\n",
        "`alpha (defualt=0): ` L1 regularization parameter.\n",
        "\n",
        "`scale_pos_weight (default=1):` Controls the balance of positive and negative weights, its useful for unbalanced classes.\n",
        "\n",
        "</details>\n",
        "\n",
        "\n",
        "**Learning Task Parameters**\n",
        "\n",
        "<details>\n",
        "  <summary> <font color=\"#282FA4 \"><b>Details</b></font> </summary>\n",
        "\n",
        "These parameters define the optimization objective to be calculated at each step.\n",
        "\n",
        "objective (default=linear): The loss function, logistic, softmax, and softprob (same as softmax but returns predicted probabilites not predicted classes).\n",
        "eval_metric (default based on objective): The metric used to validate data like: rmse, mae, logloss, error(binary classification), merror (multiclass error), mlogloss, auc (area under the curve).\n",
        "\n",
        "</details>\n",
        "\n"
      ],
      "metadata": {
        "id": "ssQQHRfEL7i9"
      }
    },
    {
      "cell_type": "markdown",
      "source": [
        "\n",
        "\n",
        "\n",
        "🔗 [Chen & Guestrin (2016) \"XGBoost: A Scalable Tree Boosting System\"](https://arxiv.org/abs/1603.02754)\n",
        "\n",
        "🔗 [Documentation](https://xgboost.readthedocs.io/en/latest/tutorials/model.html)"
      ],
      "metadata": {
        "id": "Dh7icN_Y80vi"
      }
    },
    {
      "cell_type": "code",
      "source": [
        "!pip install xgboost"
      ],
      "metadata": {
        "colab": {
          "base_uri": "https://localhost:8080/"
        },
        "id": "lRtt7bT8faL-",
        "outputId": "47534227-0499-4533-83d5-96546fadbf2c"
      },
      "execution_count": null,
      "outputs": [
        {
          "output_type": "stream",
          "name": "stdout",
          "text": [
            "Requirement already satisfied: xgboost in /usr/local/lib/python3.10/dist-packages (2.0.0)\n",
            "Requirement already satisfied: numpy in /usr/local/lib/python3.10/dist-packages (from xgboost) (1.23.5)\n",
            "Requirement already satisfied: scipy in /usr/local/lib/python3.10/dist-packages (from xgboost) (1.11.3)\n"
          ]
        }
      ]
    },
    {
      "cell_type": "code",
      "source": [
        "model_params = {\n",
        "    'objective': 'reg:linear',\n",
        "    'eval_metric': 'rmse',\n",
        "    'random_state': 42}\n",
        "\n",
        "def magic( objective,\n",
        "    eval_metric,\n",
        "    random_state,g=0,\n",
        "    ):\n",
        "  return 0\n",
        "magic(**model_params)"
      ],
      "metadata": {
        "colab": {
          "base_uri": "https://localhost:8080/"
        },
        "id": "sDtXzGnTgApe",
        "outputId": "ebf8d96c-1011-4f84-8494-95cf31115611"
      },
      "execution_count": null,
      "outputs": [
        {
          "output_type": "execute_result",
          "data": {
            "text/plain": [
              "0"
            ]
          },
          "metadata": {},
          "execution_count": 53
        }
      ]
    },
    {
      "cell_type": "code",
      "source": [
        "import xgboost as xgb\n",
        "from sklearn.model_selection import GridSearchCV\n",
        "\n",
        "model_params = {\n",
        "    'objective': 'reg:linear',\n",
        "    'eval_metric': 'rmse',\n",
        "    'random_state': 42,\n",
        "    'enable_categorical':True,\n",
        "    'subsample': 0.7,\n",
        "    'colsample_bylevel': 0.7,\n",
        "    'max_depth': 6,\n",
        "    'num_leaves': 256,\n",
        "    'verbosity': 0,\n",
        "}\n",
        "\n",
        "\n",
        "reg_xgb_init = xgb.XGBRegressor(**model_params)\n",
        "\n",
        "reg_xgb = GridSearchCV(reg_xgb_init,\n",
        "                   {'max_depth': [1, 3, 5], 'n_estimators': [50, 150], 'learning_rate': [0.001, 0.01, 0.1, 1]},\n",
        "                   cv = 3)\n",
        "\n",
        "reg_xgb.fit(X_train, y_train)\n",
        "\n",
        "print('best RMSE:', reg_xgb.best_score_) # validation score\n",
        "print('best RMSE:', reg_xgb.best_estimator_)"
      ],
      "metadata": {
        "id": "vhEg68er9ZLQ",
        "colab": {
          "base_uri": "https://localhost:8080/"
        },
        "outputId": "0ab6a887-b7d4-4169-ee6b-4fff49da5aa1"
      },
      "execution_count": null,
      "outputs": [
        {
          "output_type": "stream",
          "name": "stdout",
          "text": [
            "best RMSE: 0.99999498179575\n",
            "best RMSE: XGBRegressor(base_score=None, booster=None, callbacks=None,\n",
            "             colsample_bylevel=0.7, colsample_bynode=None,\n",
            "             colsample_bytree=None, device=None, early_stopping_rounds=None,\n",
            "             enable_categorical=True, eval_metric='rmse', feature_types=None,\n",
            "             gamma=None, grow_policy=None, importance_type=None,\n",
            "             interaction_constraints=None, learning_rate=0.1, max_bin=None,\n",
            "             max_cat_threshold=None, max_cat_to_onehot=None,\n",
            "             max_delta_step=None, max_depth=5, max_leaves=None,\n",
            "             min_child_weight=None, missing=nan, monotone_constraints=None,\n",
            "             multi_strategy=None, n_estimators=150, n_jobs=None, num_leaves=256,\n",
            "             num_parallel_tree=None, ...)\n"
          ]
        }
      ]
    },
    {
      "cell_type": "code",
      "source": [
        "reg_xgb.best_estimator_.predict()"
      ],
      "metadata": {
        "id": "0mdS0eAH9GES"
      },
      "execution_count": null,
      "outputs": []
    },
    {
      "cell_type": "markdown",
      "source": [
        "#### **Light GBM**"
      ],
      "metadata": {
        "id": "8rTQ4OtG2-vy"
      }
    },
    {
      "cell_type": "markdown",
      "source": [
        "\n",
        "🔗 [Ke et al. (2017) 'LightGBM: A Highly Efficient Gradient Boosting\n",
        "Decision Tree'](https://papers.nips.cc/paper_files/paper/2017/file/6449f44a102fde848669bdd9eb6b76fa-Paper.pdf)\n",
        "\n",
        "🔗 [Documentation](https://lightgbm.readthedocs.io/en/latest/Parameters.html)"
      ],
      "metadata": {
        "id": "5fu6Auj6B35C"
      }
    },
    {
      "cell_type": "code",
      "source": [
        "import lightgbm as lgb\n",
        "\n",
        "model_params = {\n",
        "    'objective': 'regression',\n",
        "    'metric': 'rmse',\n",
        "    'subsample': 0.7,\n",
        "    'colsample_bytree': 0.7,\n",
        "    'max_depth': 8,\n",
        "    'random_state': 42,\n",
        "    'verbosity': -1,\n",
        "}\n",
        "\n",
        "\n",
        "reg_lgb_init = lgb.LGBMRegressor(**model_params)\n",
        "\n",
        "reg_lgb = GridSearchCV(reg_lgb_init,\n",
        "                   {'max_depth': [1, 3, 5], 'n_estimators': [50, 150], 'learning_rate': [0.001, 0.01, 0.1, 1]},\n",
        "                   cv = 3)\n",
        "\n",
        "reg_lgb.fit(X_train, y_train)\n",
        "\n",
        "print('best RMSE:', reg_lgb.best_score_) # validation score\n",
        "\n",
        "# feature importances\n",
        "fi = pd.Series(reg_lgb.best_estimator_.feature_importances_, index=X_train.columns)\n",
        "fi.sort_values(ascending=False).plot(kind='bar')\n",
        "plt.title('feature importances')\n",
        "plt.show()"
      ],
      "metadata": {
        "id": "AvgDz_x23Kdt",
        "colab": {
          "base_uri": "https://localhost:8080/"
        },
        "outputId": "fb45bb1b-945c-4293-807d-ea1348200bea"
      },
      "execution_count": null,
      "outputs": [
        {
          "output_type": "stream",
          "name": "stdout",
          "text": [
            "best RMSE: 0.9996705251873624\n"
          ]
        },
        {
          "output_type": "display_data",
          "data": {
            "text/plain": [
              "<Figure size 640x480 with 1 Axes>"
            ],
            "image/png": "[encoded data removed]"
          },
          "metadata": {}
        }
      ]
    },
    {
      "cell_type": "markdown",
      "source": [
        "#### **CatBoost**"
      ],
      "metadata": {
        "id": "cl6aelML3Fud"
      }
    },
    {
      "cell_type": "markdown",
      "source": [
        "https://catboost.ai/en/docs/concepts/python-reference_catboostregressor"
      ],
      "metadata": {
        "id": "-qlLnOpoS0DD"
      }
    },
    {
      "cell_type": "code",
      "source": [
        "!pip install catboost\n",
        "from catboost import CatBoostRegressor\n",
        "from sklearn.model_selection import GridSearchCV\n",
        "import numpy as np\n",
        "import matplot"
      ],
      "metadata": {
        "colab": {
          "base_uri": "https://localhost:8080/"
        },
        "id": "jupoigTSBAWX",
        "outputId": "970ac3c3-67cd-44e3-e498-1ace032f3ab5"
      },
      "execution_count": null,
      "outputs": [
        {
          "output_type": "stream",
          "name": "stdout",
          "text": [
            "Collecting catboost\n",
            "  Downloading catboost-1.2.2-cp310-cp310-manylinux2014_x86_64.whl (98.7 MB)\n",
            "\u001b[2K     \u001b[90m━━━━━━━━━━━━━━━━━━━━━━━━━━━━━━━━━━━━━━━━\u001b[0m \u001b[32m98.7/98.7 MB\u001b[0m \u001b[31m9.3 MB/s\u001b[0m eta \u001b[36m0:00:00\u001b[0m\n",
            "\u001b[?25hRequirement already satisfied: graphviz in /usr/local/lib/python3.10/dist-packages (from catboost) (0.20.1)\n",
            "Requirement already satisfied: matplotlib in /usr/local/lib/python3.10/dist-packages (from catboost) (3.7.1)\n",
            "Requirement already satisfied: numpy>=1.16.0 in /usr/local/lib/python3.10/dist-packages (from catboost) (1.23.5)\n",
            "Requirement already satisfied: pandas>=0.24 in /usr/local/lib/python3.10/dist-packages (from catboost) (1.5.3)\n",
            "Requirement already satisfied: scipy in /usr/local/lib/python3.10/dist-packages (from catboost) (1.11.3)\n",
            "Requirement already satisfied: plotly in /usr/local/lib/python3.10/dist-packages (from catboost) (5.15.0)\n",
            "Requirement already satisfied: six in /usr/local/lib/python3.10/dist-packages (from catboost) (1.16.0)\n",
            "Requirement already satisfied: python-dateutil>=2.8.1 in /usr/local/lib/python3.10/dist-packages (from pandas>=0.24->catboost) (2.8.2)\n",
            "Requirement already satisfied: pytz>=2020.1 in /usr/local/lib/python3.10/dist-packages (from pandas>=0.24->catboost) (2023.3.post1)\n",
            "Requirement already satisfied: contourpy>=1.0.1 in /usr/local/lib/python3.10/dist-packages (from matplotlib->catboost) (1.1.1)\n",
            "Requirement already satisfied: cycler>=0.10 in /usr/local/lib/python3.10/dist-packages (from matplotlib->catboost) (0.12.0)\n",
            "Requirement already satisfied: fonttools>=4.22.0 in /usr/local/lib/python3.10/dist-packages (from matplotlib->catboost) (4.43.0)\n",
            "Requirement already satisfied: kiwisolver>=1.0.1 in /usr/local/lib/python3.10/dist-packages (from matplotlib->catboost) (1.4.5)\n",
            "Requirement already satisfied: packaging>=20.0 in /usr/local/lib/python3.10/dist-packages (from matplotlib->catboost) (23.1)\n",
            "Requirement already satisfied: pillow>=6.2.0 in /usr/local/lib/python3.10/dist-packages (from matplotlib->catboost) (9.4.0)\n",
            "Requirement already satisfied: pyparsing>=2.3.1 in /usr/local/lib/python3.10/dist-packages (from matplotlib->catboost) (3.1.1)\n",
            "Requirement already satisfied: tenacity>=6.2.0 in /usr/local/lib/python3.10/dist-packages (from plotly->catboost) (8.2.3)\n",
            "Installing collected packages: catboost\n",
            "Successfully installed catboost-1.2.2\n"
          ]
        },
        {
          "output_type": "error",
          "ename": "ModuleNotFoundError",
          "evalue": "ignored",
          "traceback": [
            "\u001b[0;31m---------------------------------------------------------------------------\u001b[0m",
            "\u001b[0;31mModuleNotFoundError\u001b[0m                       Traceback (most recent call last)",
            "\u001b[0;32m<ipython-input-59-246a5e991221>\u001b[0m in \u001b[0;36m<cell line: 5>\u001b[0;34m()\u001b[0m\n\u001b[1;32m      3\u001b[0m \u001b[0;32mfrom\u001b[0m \u001b[0msklearn\u001b[0m\u001b[0;34m.\u001b[0m\u001b[0mmodel_selection\u001b[0m \u001b[0;32mimport\u001b[0m \u001b[0mGridSearchCV\u001b[0m\u001b[0;34m\u001b[0m\u001b[0;34m\u001b[0m\u001b[0m\n\u001b[1;32m      4\u001b[0m \u001b[0;32mimport\u001b[0m \u001b[0mnumpy\u001b[0m \u001b[0;32mas\u001b[0m \u001b[0mnp\u001b[0m\u001b[0;34m\u001b[0m\u001b[0;34m\u001b[0m\u001b[0m\n\u001b[0;32m----> 5\u001b[0;31m \u001b[0;32mimport\u001b[0m \u001b[0mmatplot\u001b[0m\u001b[0;34m\u001b[0m\u001b[0;34m\u001b[0m\u001b[0m\n\u001b[0m",
            "\u001b[0;31mModuleNotFoundError\u001b[0m: No module named 'matplot'"
          ]
        }
      ]
    },
    {
      "cell_type": "code",
      "source": [
        "\n",
        "model_params = {'loss_function': 'RMSE',\n",
        "          'cat_features': ['Sentiment', 'Category', 'Type','Content Rating', 'Genres'], 'verbose': False}\n",
        "\n",
        "\n",
        "reg_cb_init = CatBoostRegressor()\n",
        "reg_cb_init.set_params(**model_params)\n",
        "\n",
        "reg_cb = GridSearchCV(reg_cb_init,\n",
        "                   # you can play with tuning, up to your CPU performance:\n",
        "                   {'max_depth': [1, 3, 5], 'n_estimators': [50, 150], 'learning_rate': [0.001, 0.01, 0.1, 1]},\n",
        "                   cv = 3)\n",
        "\n",
        "reg_cb.fit(X_train, y_train)\n",
        "\n",
        "print('best RMSE:', reg_cb.best_score_) # validation score\n",
        "\n",
        "# feature importances\n",
        "fi = pd.Series(reg_cb.best_estimator_.feature_importances_, index=X_train.columns)\n",
        "fi.sort_values(ascending=False).plot(kind='bar')\n",
        "plt.title('feature importances')\n",
        "plt.show()\n"
      ],
      "metadata": {
        "id": "23GFzuQF3LIg"
      },
      "execution_count": null,
      "outputs": []
    },
    {
      "cell_type": "markdown",
      "source": [
        "<center><img src=\"https://miro.medium.com/max/1200/0*T5jaa2othYfXZX9W.\" width=\"800px\"></center>"
      ],
      "metadata": {
        "id": "pOoO-SrJU34D"
      }
    }
  ]
}